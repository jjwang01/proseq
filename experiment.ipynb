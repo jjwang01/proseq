{
 "cells": [
  {
   "cell_type": "code",
   "execution_count": 1,
   "metadata": {},
   "outputs": [],
   "source": [
    "import os\n",
    "os.environ[\"CUDA_DEVICE_ORDER\"]=\"PCI_BUS_ID\"\n",
    "os.environ[\"CUDA_VISIBLE_DEVICES\"]=\"\""
   ]
  },
  {
   "cell_type": "code",
   "execution_count": 2,
   "metadata": {},
   "outputs": [],
   "source": [
    "import pandas as pd\n",
    "import numpy as np\n",
    "import pyBigWig\n",
    "k562_positive=pyBigWig.open('/oak/stanford/groups/akundaje/laks/proseq_chromputer/K562_unt.sort.bed.gz_plus.bw')\n",
    "k562_negative=pyBigWig.open('/oak/stanford/groups/akundaje/laks/proseq_chromputer/K562_unt.sort.bed.gz_minus.bw')\n",
    "h3k27ac_bigwig=pyBigWig.open('/oak/stanford/groups/akundaje/laks/proseq_chromputer/wgEncodeBroadHistoneK562H3k27acStdSig.bigWig')\n",
    "h3k27ac_peak_replicated_bed=pd.read_csv('/oak/stanford/groups/akundaje/laks/proseq_chromputer/wgEncodeBroadHistoneK562H3k27acStdPk.broadPeak',sep='\\t',header=None)"
   ]
  },
  {
   "cell_type": "code",
   "execution_count": 4,
   "metadata": {},
   "outputs": [
    {
     "name": "stdout",
     "output_type": "stream",
     "text": [
      "187784910.0\n"
     ]
    }
   ],
   "source": [
    "total_sum=0\n",
    "for i in range(0,22):\n",
    "\tif i==0:\n",
    "\t\tchrm='chrX'\n",
    "\telse:\n",
    "\t\tchrm='chr'+str(i)\n",
    "\tlength=k562_positive.chroms(chrm)\n",
    "\tvalues=k562_positive.values(chrm,0,length)\n",
    "\ta=np.array(values)\n",
    "\ta[np.isnan(a)] = 0\n",
    "\ttotal_sum=total_sum+np.sum(a)\n",
    "print(total_sum)    "
   ]
  },
  {
   "cell_type": "code",
   "execution_count": 7,
   "metadata": {},
   "outputs": [
    {
     "name": "stdout",
     "output_type": "stream",
     "text": [
      "-182070329.0\n"
     ]
    }
   ],
   "source": [
    "total_sum_negative=0\n",
    "for i in range(0,22):\n",
    "\tif i==0:\n",
    "\t\tchrm='chrX'\n",
    "\telse:\n",
    "\t\tchrm='chr'+str(i)\n",
    "\tlength=k562_negative.chroms(chrm)\n",
    "\tvalues=k562_negative.values(chrm,0,length)\n",
    "\ta=np.array(values)\n",
    "\ta[np.isnan(a)] = 0\n",
    "\ttotal_sum_negative=total_sum_negative+np.sum(a)\n",
    "print(total_sum_negative)"
   ]
  },
  {
   "cell_type": "code",
   "execution_count": 6,
   "metadata": {},
   "outputs": [
    {
     "data": {
      "text/html": [
       "<div>\n",
       "<style scoped>\n",
       "    .dataframe tbody tr th:only-of-type {\n",
       "        vertical-align: middle;\n",
       "    }\n",
       "\n",
       "    .dataframe tbody tr th {\n",
       "        vertical-align: top;\n",
       "    }\n",
       "\n",
       "    .dataframe thead th {\n",
       "        text-align: right;\n",
       "    }\n",
       "</style>\n",
       "<table border=\"1\" class=\"dataframe\">\n",
       "  <thead>\n",
       "    <tr style=\"text-align: right;\">\n",
       "      <th></th>\n",
       "      <th>0</th>\n",
       "      <th>1</th>\n",
       "      <th>2</th>\n",
       "      <th>3</th>\n",
       "      <th>4</th>\n",
       "      <th>5</th>\n",
       "      <th>6</th>\n",
       "      <th>7</th>\n",
       "      <th>8</th>\n",
       "    </tr>\n",
       "  </thead>\n",
       "  <tbody>\n",
       "    <tr>\n",
       "      <th>0</th>\n",
       "      <td>chr1</td>\n",
       "      <td>138424</td>\n",
       "      <td>138651</td>\n",
       "      <td>.</td>\n",
       "      <td>834</td>\n",
       "      <td>.</td>\n",
       "      <td>18.913075</td>\n",
       "      <td>16.0</td>\n",
       "      <td>-1</td>\n",
       "    </tr>\n",
       "    <tr>\n",
       "      <th>1</th>\n",
       "      <td>chr1</td>\n",
       "      <td>138940</td>\n",
       "      <td>139174</td>\n",
       "      <td>.</td>\n",
       "      <td>541</td>\n",
       "      <td>.</td>\n",
       "      <td>9.971358</td>\n",
       "      <td>8.9</td>\n",
       "      <td>-1</td>\n",
       "    </tr>\n",
       "    <tr>\n",
       "      <th>2</th>\n",
       "      <td>chr1</td>\n",
       "      <td>229516</td>\n",
       "      <td>229733</td>\n",
       "      <td>.</td>\n",
       "      <td>468</td>\n",
       "      <td>.</td>\n",
       "      <td>7.741818</td>\n",
       "      <td>3.0</td>\n",
       "      <td>-1</td>\n",
       "    </tr>\n",
       "    <tr>\n",
       "      <th>3</th>\n",
       "      <td>chr1</td>\n",
       "      <td>235557</td>\n",
       "      <td>235841</td>\n",
       "      <td>.</td>\n",
       "      <td>634</td>\n",
       "      <td>.</td>\n",
       "      <td>12.816706</td>\n",
       "      <td>15.5</td>\n",
       "      <td>-1</td>\n",
       "    </tr>\n",
       "    <tr>\n",
       "      <th>4</th>\n",
       "      <td>chr1</td>\n",
       "      <td>235926</td>\n",
       "      <td>236045</td>\n",
       "      <td>.</td>\n",
       "      <td>651</td>\n",
       "      <td>.</td>\n",
       "      <td>13.333130</td>\n",
       "      <td>5.8</td>\n",
       "      <td>-1</td>\n",
       "    </tr>\n",
       "  </tbody>\n",
       "</table>\n",
       "</div>"
      ],
      "text/plain": [
       "      0       1       2  3    4  5          6     7  8\n",
       "0  chr1  138424  138651  .  834  .  18.913075  16.0 -1\n",
       "1  chr1  138940  139174  .  541  .   9.971358   8.9 -1\n",
       "2  chr1  229516  229733  .  468  .   7.741818   3.0 -1\n",
       "3  chr1  235557  235841  .  634  .  12.816706  15.5 -1\n",
       "4  chr1  235926  236045  .  651  .  13.333130   5.8 -1"
      ]
     },
     "execution_count": 6,
     "metadata": {},
     "output_type": "execute_result"
    }
   ],
   "source": [
    "h3k27ac_peak_replicated_bed.head()"
   ]
  },
  {
   "cell_type": "code",
   "execution_count": 9,
   "metadata": {},
   "outputs": [],
   "source": [
    "h3k27ac_peak_replicated_bed['diff']=h3k27ac_peak_replicated_bed[2]-h3k27ac_peak_replicated_bed[1]\n",
    "h3k27ac_peak_replicated_bed['absolute_diff']=10000-h3k27ac_peak_replicated_bed['diff']\n",
    "import math\n",
    "h3k27ac_peak_replicated_bed['left']=h3k27ac_peak_replicated_bed['absolute_diff'].apply(lambda x : math.floor(float(x)/2))\n",
    "h3k27ac_peak_replicated_bed['right']=h3k27ac_peak_replicated_bed['absolute_diff'].apply(lambda x : math.ceil(float(x)/2))\n",
    "h3k27ac_peak_replicated_bed['left_new']=h3k27ac_peak_replicated_bed[1]-h3k27ac_peak_replicated_bed['left']\n",
    "h3k27ac_peak_replicated_bed['right_new']=h3k27ac_peak_replicated_bed[2]+h3k27ac_peak_replicated_bed['right']\n",
    "h3k27ac_peak_replicated_bed['new_diff']=h3k27ac_peak_replicated_bed['right_new']-h3k27ac_peak_replicated_bed['left_new']\n",
    "h3k27ac_peak_replicated_bed['left_new']=h3k27ac_peak_replicated_bed['left_new'].astype(int)\n",
    "h3k27ac_peak_replicated_bed['right_new']=h3k27ac_peak_replicated_bed['right_new'].astype(int)"
   ]
  },
  {
   "cell_type": "code",
   "execution_count": 14,
   "metadata": {},
   "outputs": [
    {
     "data": {
      "text/html": [
       "<div>\n",
       "<style scoped>\n",
       "    .dataframe tbody tr th:only-of-type {\n",
       "        vertical-align: middle;\n",
       "    }\n",
       "\n",
       "    .dataframe tbody tr th {\n",
       "        vertical-align: top;\n",
       "    }\n",
       "\n",
       "    .dataframe thead th {\n",
       "        text-align: right;\n",
       "    }\n",
       "</style>\n",
       "<table border=\"1\" class=\"dataframe\">\n",
       "  <thead>\n",
       "    <tr style=\"text-align: right;\">\n",
       "      <th></th>\n",
       "      <th>0</th>\n",
       "      <th>1</th>\n",
       "      <th>2</th>\n",
       "      <th>3</th>\n",
       "      <th>4</th>\n",
       "      <th>5</th>\n",
       "      <th>6</th>\n",
       "      <th>7</th>\n",
       "      <th>8</th>\n",
       "      <th>diff</th>\n",
       "      <th>absolute_diff</th>\n",
       "      <th>left</th>\n",
       "      <th>right</th>\n",
       "      <th>left_new</th>\n",
       "      <th>right_new</th>\n",
       "      <th>new_diff</th>\n",
       "    </tr>\n",
       "  </thead>\n",
       "  <tbody>\n",
       "    <tr>\n",
       "      <th>0</th>\n",
       "      <td>chr1</td>\n",
       "      <td>138424</td>\n",
       "      <td>138651</td>\n",
       "      <td>.</td>\n",
       "      <td>834</td>\n",
       "      <td>.</td>\n",
       "      <td>18.913075</td>\n",
       "      <td>16.0</td>\n",
       "      <td>-1</td>\n",
       "      <td>227</td>\n",
       "      <td>9773</td>\n",
       "      <td>4886</td>\n",
       "      <td>4887</td>\n",
       "      <td>133538</td>\n",
       "      <td>143538</td>\n",
       "      <td>10000</td>\n",
       "    </tr>\n",
       "    <tr>\n",
       "      <th>1</th>\n",
       "      <td>chr1</td>\n",
       "      <td>138940</td>\n",
       "      <td>139174</td>\n",
       "      <td>.</td>\n",
       "      <td>541</td>\n",
       "      <td>.</td>\n",
       "      <td>9.971358</td>\n",
       "      <td>8.9</td>\n",
       "      <td>-1</td>\n",
       "      <td>234</td>\n",
       "      <td>9766</td>\n",
       "      <td>4883</td>\n",
       "      <td>4883</td>\n",
       "      <td>134057</td>\n",
       "      <td>144057</td>\n",
       "      <td>10000</td>\n",
       "    </tr>\n",
       "    <tr>\n",
       "      <th>2</th>\n",
       "      <td>chr1</td>\n",
       "      <td>229516</td>\n",
       "      <td>229733</td>\n",
       "      <td>.</td>\n",
       "      <td>468</td>\n",
       "      <td>.</td>\n",
       "      <td>7.741818</td>\n",
       "      <td>3.0</td>\n",
       "      <td>-1</td>\n",
       "      <td>217</td>\n",
       "      <td>9783</td>\n",
       "      <td>4891</td>\n",
       "      <td>4892</td>\n",
       "      <td>224625</td>\n",
       "      <td>234625</td>\n",
       "      <td>10000</td>\n",
       "    </tr>\n",
       "    <tr>\n",
       "      <th>3</th>\n",
       "      <td>chr1</td>\n",
       "      <td>235557</td>\n",
       "      <td>235841</td>\n",
       "      <td>.</td>\n",
       "      <td>634</td>\n",
       "      <td>.</td>\n",
       "      <td>12.816706</td>\n",
       "      <td>15.5</td>\n",
       "      <td>-1</td>\n",
       "      <td>284</td>\n",
       "      <td>9716</td>\n",
       "      <td>4858</td>\n",
       "      <td>4858</td>\n",
       "      <td>230699</td>\n",
       "      <td>240699</td>\n",
       "      <td>10000</td>\n",
       "    </tr>\n",
       "    <tr>\n",
       "      <th>4</th>\n",
       "      <td>chr1</td>\n",
       "      <td>235926</td>\n",
       "      <td>236045</td>\n",
       "      <td>.</td>\n",
       "      <td>651</td>\n",
       "      <td>.</td>\n",
       "      <td>13.333130</td>\n",
       "      <td>5.8</td>\n",
       "      <td>-1</td>\n",
       "      <td>119</td>\n",
       "      <td>9881</td>\n",
       "      <td>4940</td>\n",
       "      <td>4941</td>\n",
       "      <td>230986</td>\n",
       "      <td>240986</td>\n",
       "      <td>10000</td>\n",
       "    </tr>\n",
       "  </tbody>\n",
       "</table>\n",
       "</div>"
      ],
      "text/plain": [
       "      0       1       2  3    4  5          6     7  8  diff  absolute_diff  \\\n",
       "0  chr1  138424  138651  .  834  .  18.913075  16.0 -1   227           9773   \n",
       "1  chr1  138940  139174  .  541  .   9.971358   8.9 -1   234           9766   \n",
       "2  chr1  229516  229733  .  468  .   7.741818   3.0 -1   217           9783   \n",
       "3  chr1  235557  235841  .  634  .  12.816706  15.5 -1   284           9716   \n",
       "4  chr1  235926  236045  .  651  .  13.333130   5.8 -1   119           9881   \n",
       "\n",
       "   left  right  left_new  right_new  new_diff  \n",
       "0  4886   4887    133538     143538     10000  \n",
       "1  4883   4883    134057     144057     10000  \n",
       "2  4891   4892    224625     234625     10000  \n",
       "3  4858   4858    230699     240699     10000  \n",
       "4  4940   4941    230986     240986     10000  "
      ]
     },
     "execution_count": 14,
     "metadata": {},
     "output_type": "execute_result"
    }
   ],
   "source": [
    "h3k27ac_peak_replicated_bed[0:5]"
   ]
  },
  {
   "cell_type": "code",
   "execution_count": null,
   "metadata": {},
   "outputs": [],
   "source": [
    "proseq_positive_values=k562_positive.values(\"chr11\",837429,847429)\n",
    "proseq_negative_values=k562_negative.values(\"chr11\",837429,847429)\n",
    "h3k27ac_values=h3k27ac_bigwig.values(\"chr11\",837429,847429)"
   ]
  },
  {
   "cell_type": "code",
   "execution_count": 13,
   "metadata": {},
   "outputs": [
    {
     "name": "stdout",
     "output_type": "stream",
     "text": [
      "[nan, nan, nan, nan, nan, nan, nan, 1.0, nan, 4.0, nan, nan, nan, nan, 4.0, nan, nan, 1.0, nan, nan, 2.0, 1.0, nan, 3.0, nan, nan, nan, 4.0, nan, nan, 2.0, nan, 8.0, 14.0, 1.0, 6.0, 2.0, 7.0, 6.0, nan, 2.0, 3.0, 3.0, 2.0, 1.0, 2.0, 2.0, 8.0, 2.0, nan, 6.0, nan, nan, 3.0, nan, 9.0, nan, nan, 2.0, nan, nan, nan, nan, nan, 1.0, 7.0, nan, 10.0, 1.0, nan, nan, 2.0, nan, nan, 2.0, 1.0, nan, 1.0, nan, 4.0, 6.0, 1.0, nan, nan, nan, nan, 4.0, nan, nan, nan, nan, nan, nan, 2.0, nan, 3.0, nan, nan, 2.0, nan, 2.0, nan, nan, nan, nan, 3.0, nan, nan, nan, nan, nan, nan, nan, nan, 3.0, 4.0, nan, nan, nan, 7.0, nan, nan, nan, nan, 3.0, 1.0, 1.0, nan, 2.0, nan, nan, 1.0, nan, 5.0, 4.0, nan, nan, nan, 2.0, nan, nan, 1.0, 3.0, nan, 7.0, nan, nan, nan, nan, nan, nan, nan, nan, nan, nan, nan, nan, nan, nan, nan, nan, 3.0, 3.0, nan, nan, nan, nan, nan, nan, nan, nan, nan, nan, 1.0, nan, nan, nan, nan, nan, nan, nan, nan, nan, nan, nan, nan, nan, nan, nan, nan, nan, 4.0, 1.0, 1.0, nan, nan, 2.0, 4.0, 6.0, nan, nan, nan, nan, nan, nan, 2.0, nan, 3.0, nan, nan, nan, 3.0, 2.0, nan, nan, nan, nan, nan, nan, 2.0, nan, 1.0, nan, 3.0, 17.0, 3.0, 3.0, 2.0, nan, nan, 3.0, nan, nan, nan, nan, 2.0, nan, 2.0, nan, 1.0, nan, 4.0, 1.0, nan, nan, nan, nan, nan, nan, nan, nan, nan, 1.0, nan, nan, nan, nan, nan, nan, nan, nan, 1.0, nan, 1.0, nan, nan, nan, nan, nan, 3.0, 1.0, 3.0, 3.0, nan, nan, nan, nan, 1.0, nan, nan, nan, 2.0, nan, nan, nan, 3.0, 2.0, 4.0, 1.0, 2.0, nan, nan, nan, 2.0, nan, nan, 4.0, nan, nan, nan, nan, nan, 2.0, 5.0, nan, nan, nan, nan, nan, 1.0, nan, nan, nan, nan, nan, nan, nan, nan, nan, 2.0, 2.0, nan, 2.0, nan, nan, nan, nan, nan, 1.0, nan, nan, nan, nan, 20.0, 20.0, nan, nan, nan, nan, nan, nan, nan, 3.0, nan, nan, nan, nan, nan, 2.0, nan, 1.0, 3.0, 5.0, nan, nan, nan, nan, nan, 2.0, nan, nan, nan, nan, nan, 2.0, nan, nan, nan, 2.0, 6.0, nan, 3.0, 3.0, nan, 1.0, nan, nan, nan, nan, nan, 2.0, nan, nan, nan, 2.0, nan, 5.0, 2.0, nan, nan, nan, nan, nan, nan, nan, 9.0, 2.0, nan, 5.0, nan, nan, nan, nan, nan, 2.0, nan, 3.0, nan, nan, nan, nan, nan, nan, nan, 1.0, 3.0, nan, 2.0, nan, nan, nan, 7.0, nan, nan, nan, nan, nan, 12.0, 5.0, 6.0, 2.0, nan, nan, nan, nan, nan, nan, nan, nan, nan, nan, nan, nan, nan, nan, nan, nan, nan, nan, nan, 2.0, 1.0, 1.0, 1.0, 3.0, nan, nan, nan, nan, 2.0, 3.0, nan, 4.0, nan, 1.0, nan, nan, nan, 2.0, 1.0, nan, 1.0, 3.0, nan, nan, nan, 3.0, nan, nan, nan, nan, nan, nan, 1.0, nan, nan, 1.0, nan, nan, nan, nan, nan, nan, nan, nan, nan, nan, nan, nan, nan, nan, nan, 3.0, nan, nan, nan, nan, nan, nan, nan, nan, nan, nan, nan, 1.0, nan, nan, nan, nan, 2.0, nan, nan, nan, nan, nan, nan, nan, nan, nan, nan, nan, nan, nan, nan, nan, nan, nan, nan, nan, nan, nan, nan, 1.0, nan, nan, 3.0, nan, nan, nan, nan, nan, nan, nan, 3.0, 2.0, nan, nan, nan, 1.0, nan, nan, nan, nan, nan, nan, nan, nan, nan, nan, nan, nan, nan, 1.0, nan, nan, nan, 2.0, 3.0, nan, nan, 3.0, nan, nan, 5.0, nan, nan, nan, 2.0, 7.0, nan, nan, nan, nan, 1.0, nan, nan, 1.0, nan, nan, nan, 1.0, 1.0, nan, nan, 1.0, nan, 2.0, nan, 3.0, nan, nan, nan, 2.0, nan, nan, nan, nan, 1.0, nan, nan, nan, 1.0, nan, nan, nan, nan, nan, nan, nan, nan, nan, nan, 1.0, nan, 1.0, nan, nan, nan, nan, nan, nan, nan, nan, nan, nan, 3.0, nan, nan, nan, 3.0, nan, nan, nan, nan, nan, 1.0, nan, 7.0, 2.0, nan, nan, nan, nan, 6.0, nan, nan, nan, nan, nan, nan, nan, nan, nan, nan, nan, 2.0, 4.0, 2.0, nan, nan, nan, nan, nan, nan, nan, nan, nan, nan, nan, nan, nan, nan, nan, nan, nan, nan, nan, 2.0, nan, nan, 4.0, 1.0, nan, 1.0, nan, 2.0, 2.0, nan, nan, 3.0, nan, nan, nan, nan, nan, nan, nan, nan, nan, nan, nan, nan, nan, nan, nan, nan, 2.0, nan, nan, 1.0, 3.0, nan, nan, nan, nan, nan, nan, nan, nan, nan, nan, nan, nan, nan, 10.0, 2.0, nan, 4.0, nan, nan, nan, 5.0, nan, 2.0, 2.0, nan, 2.0, nan, nan, 2.0, nan, nan, nan, 3.0, nan, 5.0, 1.0, 3.0, 4.0, 4.0, nan, nan, 1.0, nan, nan, nan, nan, nan, nan, nan, nan, nan, 6.0, 3.0, nan, nan, nan, nan, 1.0, nan, nan, nan, nan, nan, 4.0, nan, nan, nan, nan, 1.0, 1.0, nan, nan, nan, nan, nan, nan, nan, 6.0, nan, nan, 4.0, 1.0, nan, nan, nan, nan, 1.0, 5.0, nan, 6.0, 5.0, nan, nan, nan, nan, nan, nan, nan, nan, nan, nan, nan, 2.0, nan, 3.0, nan, nan, nan, nan, nan, nan, nan, 3.0, nan, nan, nan, nan, nan, nan, nan, nan, nan, nan, nan, 2.0, 1.0, nan, nan, nan, nan, nan, nan, nan, nan, nan, nan, nan, nan, nan, nan, nan, nan, nan, nan, nan, nan, nan, nan, 2.0, 1.0, 2.0, nan, nan, 1.0, nan, nan, nan, nan, nan, nan, nan, nan, nan, nan, nan, nan, nan, nan, nan, nan, nan, nan, nan, 4.0, nan, nan, nan, nan, nan, nan, nan, nan, nan, nan, nan, nan, nan, nan, nan, nan, nan, nan, nan, nan, nan, nan, nan, nan, nan, nan, nan, nan, nan, nan, nan, nan, nan, nan, nan, nan, nan, nan, nan, nan, 2.0, nan, nan, 3.0, nan, 2.0, nan, nan, nan, nan, nan, nan, nan, nan, nan, nan, nan, nan, nan, 2.0, 16.0, 1.0, nan, nan, nan, nan, nan, nan, nan, 2.0, nan, nan, nan, nan, 1.0, 4.0, nan, nan, 3.0, nan, nan, nan, 2.0, nan, nan, nan, nan, nan, nan, nan, nan, nan, nan, nan, nan, nan, nan, nan, nan, 1.0, nan, nan, nan, nan, 3.0, nan, nan, nan, nan, 2.0, nan, nan, 1.0, 2.0, nan, nan, nan, nan, nan, 3.0, 1.0, nan, nan, 3.0, 3.0, nan, 1.0, nan, 5.0, nan, nan, 2.0, nan, nan, nan, nan, nan, nan, 4.0, nan, 6.0, nan, nan, 1.0, nan, nan, nan, nan, 2.0, nan, nan, nan, nan, nan, nan, nan, 3.0, 1.0, nan, nan, nan, nan, nan, nan, nan, nan, nan, nan, nan, 1.0, nan, nan, nan, nan, 6.0, nan, nan, nan, nan, nan, nan, nan, nan, nan, nan, nan, nan, nan, nan, nan, nan, 2.0, nan, nan, nan, nan, nan, nan, nan, nan, nan, nan, nan, nan, nan, nan, nan, nan, nan, nan, nan, nan, nan, nan, nan, nan, nan, nan, nan, nan, nan, nan, nan, nan, nan, nan, nan, nan, 3.0, nan, 1.0, nan, nan, nan, nan, nan, nan, nan, 2.0, nan, nan, nan, nan, nan, 1.0, 3.0, nan, nan, 7.0, nan, nan, nan, nan, nan, nan, nan, nan, nan, nan, nan, nan, nan, 1.0, 1.0, 1.0, nan, nan, nan, nan, nan, nan, nan, nan, nan, nan, nan, nan, 2.0, nan, nan, 1.0, nan, 1.0, nan, nan, nan, nan, nan, nan, nan, nan, nan, nan, nan, nan, nan, 2.0, nan, nan, nan, nan, 11.0, nan, 1.0, 1.0, nan, 6.0, 1.0, nan, nan, 2.0, nan, nan, 5.0, nan, 1.0, nan, nan, 2.0, nan, nan, nan, nan, 1.0, nan, nan, nan, nan, nan, nan, nan, nan, nan, nan, nan, nan, nan, nan, nan, nan, nan, nan, nan, 7.0, nan, nan, nan, nan, nan, 3.0, 1.0, 2.0, 1.0, nan, nan, nan, nan, nan, 1.0, 4.0, 1.0, 1.0, nan, 1.0, nan, nan, nan, nan, nan, 1.0, nan, nan, nan, nan, nan, nan, nan, nan, 1.0, nan, nan, nan, nan, nan, nan, nan, nan, nan, 12.0, nan, nan, nan, nan, nan, nan, nan, nan, nan, nan, nan, nan, 4.0, nan, nan, nan, nan, nan, nan, nan, nan, 1.0, 1.0, 3.0, nan, nan, nan, nan, nan, nan, nan, nan, nan, nan, 1.0, nan, nan, 9.0, nan, nan, nan, nan, 6.0, nan, nan, nan, 2.0, 3.0, nan, nan, nan, nan, nan, nan, nan, nan, nan, nan, nan, 5.0, 1.0, nan, nan, 1.0, nan, nan, nan, 5.0, 2.0, nan, nan, 1.0, 10.0, nan, 2.0, nan, 1.0, 2.0, 7.0, nan, nan, 6.0, nan, 1.0, nan, nan, 2.0, nan, nan, nan, nan, 2.0, nan, nan, nan, 3.0, nan, nan, 5.0, nan, nan, nan, nan, nan, 2.0, nan, nan, nan, nan, 1.0, nan, nan, 2.0, nan, nan, nan, nan, nan, nan, nan, nan, nan, 4.0, nan, nan, nan, nan, nan, 1.0, nan, nan, 1.0, 2.0, 1.0, nan, nan, nan, 3.0, nan, nan, nan, 1.0, nan, 5.0, nan, 4.0, nan, nan, 3.0, 1.0, 2.0, nan, nan, nan, nan, 1.0, 1.0, 9.0, 1.0, 2.0, nan, 2.0, nan, nan, nan, nan, nan, nan, nan, nan, nan, 1.0, nan, nan, nan, nan, nan, 2.0, 2.0, 1.0, nan, 1.0, 2.0, nan, nan, nan, 1.0, nan, nan, 3.0, nan, 2.0, nan, nan, nan, nan, nan, nan, nan, nan, nan, nan, nan, nan, nan, nan, nan, nan, nan, nan, 1.0, nan, 1.0, nan, nan, nan, 2.0, nan, nan, nan, nan, nan, nan, nan, nan, 5.0, nan, 2.0, nan, 2.0, 1.0, 6.0, nan, 31.0, 2.0, 8.0, nan, 2.0, 12.0, 3.0, 8.0, 2.0, 6.0, nan, 1.0, 3.0, nan, nan, 1.0, 13.0, nan, nan, nan, nan, 1.0, nan, nan, nan, nan, nan, nan, nan, 1.0, nan, nan, nan, 11.0, nan, 4.0, 2.0, nan, 10.0, nan, nan, nan, 7.0, 3.0, 1.0, nan, 19.0, 2.0, 2.0, 7.0, nan, 8.0, 4.0, 5.0, 25.0, nan, 16.0, 2.0, 4.0, 5.0, nan, 6.0, 1.0, 4.0, nan, nan, 1.0, nan, nan, nan, nan, 5.0, 2.0, 7.0, nan, 14.0, 3.0, nan, 3.0, nan, 16.0, 2.0, nan, 2.0, nan, 3.0, 5.0, 3.0, nan, nan, nan, nan, nan, nan, 1.0, nan, nan, nan, nan, 1.0, nan, 2.0, 1.0, nan, 3.0, nan, 8.0, nan, 2.0, 6.0, 2.0, nan, 6.0, 3.0, 3.0, 4.0, 4.0, 3.0, nan, 1.0, 4.0, nan, 7.0, 9.0, 1.0, 3.0, 5.0, nan, 2.0, nan, 1.0, 6.0, 10.0, nan, nan, 10.0, 22.0, 9.0, 9.0, 2.0, 1.0, 5.0, nan, nan, nan, nan, 4.0, nan, nan, nan, nan, nan, 2.0, 1.0, nan, 1.0, nan, nan, nan, 2.0, nan, nan, 3.0, nan, nan, 3.0, nan, 2.0, 2.0, nan, nan, 2.0, 1.0, 4.0, nan, 9.0, nan, 1.0, nan, 2.0, nan, 1.0, nan, nan, 2.0, 5.0, nan, nan, nan, 8.0, 2.0, 6.0, nan, nan, nan, 2.0, 5.0, 3.0, 2.0, nan, nan, nan, 2.0, 3.0, nan, nan, nan, nan, nan, nan, 1.0, 2.0, 4.0, 8.0, nan, 7.0, 1.0, 19.0, 6.0, 7.0, 1.0, 27.0, 30.0, 13.0, 6.0, nan, 33.0, 10.0, 5.0, nan, nan, 10.0, 7.0, nan, 1.0, 2.0, 6.0, 2.0, 2.0, nan, 1.0, 3.0, nan, nan, nan, 4.0, nan, nan, 1.0, nan, 1.0, nan, nan, nan, nan, 1.0, 7.0, nan, 2.0, 2.0, nan, nan, 1.0, nan, nan, nan, nan, 1.0, 4.0, 1.0, nan, 5.0, 7.0, nan, 1.0, 13.0, 8.0, nan, 1.0, 5.0, nan, 1.0, nan, nan, nan, nan, 2.0, 3.0, nan, nan, 2.0, nan, nan, 2.0, nan, 2.0, 4.0, nan, nan, 1.0, 4.0, nan, 2.0, 21.0, 2.0, nan, nan, nan, 1.0, 5.0, 12.0, 4.0, 3.0, 8.0, nan, 6.0, 4.0, 7.0, 5.0, 9.0, nan, 2.0, 14.0, 3.0, 3.0, 13.0, 6.0, 5.0, nan, 8.0, 1.0, nan, nan, nan, nan, nan, nan, nan, nan, 5.0, 1.0, nan, nan, 2.0, 6.0, 3.0, nan, nan, 1.0, nan, 1.0, nan, 8.0, nan, nan, nan, 23.0, nan, 26.0, 2.0, 7.0, nan, 2.0, nan, nan, nan, 11.0, 2.0, 10.0, 2.0, 2.0, 3.0, 2.0, 1.0, 7.0, nan, nan, 2.0, 1.0, nan, nan, nan, 1.0, nan, nan, 3.0, 15.0, nan, nan, 2.0, 5.0, 6.0, nan, nan, 6.0, 7.0, 2.0, 2.0, 8.0, 1.0, 5.0, nan, nan, 5.0, nan, 7.0, nan, 1.0, nan, 2.0, nan, nan, 2.0, 7.0, 4.0, nan, 5.0, nan, 3.0, nan, 2.0, 4.0, 2.0, nan, nan, 7.0, 4.0, 1.0, nan, nan, 2.0, 7.0, nan, nan, nan, 1.0, nan, nan, nan, 4.0, nan, 1.0, nan, 4.0, nan, nan, 3.0, nan, 2.0, 4.0, 3.0, 5.0, nan, nan, 2.0, nan, 3.0, nan, nan, 5.0, nan, 6.0, 1.0, 5.0, 2.0, nan, 1.0, nan, nan, nan, nan, nan, nan, nan, nan, nan, 3.0, nan, nan, nan, 5.0, nan, 10.0, 6.0, nan, 1.0, 2.0, 2.0, nan, nan, 6.0, 6.0, nan, nan, nan, nan, nan, nan, nan, 4.0, 3.0, nan, nan, nan, 2.0, nan, nan, nan, 3.0, nan, nan, nan, nan, nan, nan, nan, 2.0, 1.0, 1.0, nan, nan, nan, 1.0, nan, 5.0, 9.0, nan, nan, nan, nan, nan, nan, 1.0, nan, nan, 2.0, 1.0, nan, 3.0, nan, 2.0, nan, nan, nan, 1.0, nan, nan, nan, nan, nan, nan, nan, nan, nan, nan, nan, nan, nan, 2.0, nan, nan, nan, nan, nan, nan, nan, 4.0, nan, 1.0, nan, nan, nan, nan, nan, nan, nan, nan, nan, nan, nan, nan, nan, nan, nan, nan, nan, 7.0, nan, nan, nan, nan, nan, nan, nan, 4.0, 2.0, nan, nan, 1.0, nan, nan, nan, 2.0, nan, 6.0, 4.0, nan, 1.0, 2.0, 3.0, 4.0, 3.0, nan, 6.0, nan, 7.0, 7.0, nan, 7.0, 6.0, 4.0, 3.0, 6.0, 2.0, 3.0, 19.0, nan, nan, 5.0, 2.0, 5.0, 1.0, 3.0, 2.0, 29.0, 4.0, 8.0, 5.0, 10.0, 6.0, 11.0, 8.0, 6.0, 6.0, nan, nan, 1.0, 16.0, 2.0, nan, 1.0, 3.0, nan, 1.0, 1.0, 3.0, nan, 2.0, nan, 5.0, 3.0, nan, nan, nan, nan, nan, nan, 2.0, nan, nan, nan, nan, nan, nan, nan, nan, nan, 2.0, nan, nan, nan, 2.0, nan, nan, nan, 2.0, nan, nan, nan, nan, nan, nan, nan, nan, nan, nan, nan, nan, nan, nan, nan, nan, nan, 3.0, nan, nan, nan, 1.0, nan, nan, 3.0, 3.0, nan, nan, 1.0, 4.0, 9.0, nan, 6.0, nan, nan, nan, nan, nan, 4.0, nan, nan, 3.0, nan, nan, 3.0, nan, nan, nan, 1.0, nan, 10.0, 2.0, nan, 1.0, 4.0, 5.0, 6.0, nan, nan, nan, 23.0, 5.0, nan, 1.0, 5.0, nan, nan, nan, 3.0, nan, 3.0, 3.0, nan, 1.0, nan, 75.0, 12.0, 21.0, 8.0, nan, 9.0, 1.0, nan, nan, 2.0, nan, 8.0, 2.0, nan, 6.0, 4.0, nan, 1.0, nan, 1.0, 3.0, 3.0, nan, nan, nan, 1.0, 9.0, nan, 2.0, 1.0, 4.0, 1.0, nan, 4.0, 8.0, nan, nan, nan, nan, nan, nan, nan, nan, 1.0, 1.0, nan, nan, nan, 1.0, 1.0, nan, nan, 1.0, nan, nan, nan, nan, nan, nan, 1.0, nan, nan, nan, nan, nan, nan, nan, 3.0, nan, 1.0, nan, nan, 2.0, nan, nan, 3.0, nan, 9.0, nan, 2.0, nan, 4.0, 2.0, nan, nan, nan, nan, nan, nan, nan, nan, 1.0, nan, nan, nan, nan, nan, nan, nan, nan, nan, nan, nan, nan, nan, nan, nan, nan, nan, nan, nan, nan, nan, nan, nan, nan, nan, nan, nan, nan, 1.0, nan, 1.0, nan, nan, nan, nan, nan, nan, nan, nan, 5.0, 3.0, 5.0, nan, nan, nan, nan, nan, 2.0, nan, nan, nan, 13.0, nan, nan, 2.0, 2.0, nan, nan, nan, nan, 22.0, 5.0, 3.0, nan, nan, 5.0, nan, nan, nan, nan, nan, nan, 2.0, nan, nan, nan, 2.0, nan, 1.0, 1.0, nan, 1.0, nan, nan, nan, nan, nan, nan, nan, nan, nan, nan, nan, nan, nan, nan, nan, 2.0, nan, nan, 4.0, 2.0, nan, 2.0, nan, nan, nan, nan, nan, nan, nan, nan, nan, nan, nan, nan, 2.0, nan, 2.0, 3.0, nan, 3.0, nan, nan, nan, nan, nan, nan, nan, 2.0, 5.0, nan, nan, nan, nan, nan, nan, nan, nan, 3.0, nan, nan, nan, 1.0, nan, nan, nan, nan, nan, nan, nan, 1.0, nan, nan, 1.0, 14.0, nan, nan, nan, nan, 3.0, 1.0, 2.0, 2.0, 7.0, 2.0, 4.0, 1.0, nan, 9.0, nan, nan, 3.0, 2.0, 6.0, 16.0, 1.0, nan, nan, nan, 3.0, nan, 1.0, 5.0, nan, 5.0, nan, nan, 1.0, nan, nan, nan, nan, nan, nan, nan, nan, 2.0, nan, nan, nan, 3.0, nan, nan, nan, 1.0, nan, nan, nan, nan, nan, nan, nan, nan, 1.0, nan, nan, nan, nan, nan, nan, nan, nan, nan, nan, 2.0, nan, nan, nan, nan, 5.0, nan, nan, nan, nan, nan, nan, 1.0, 2.0, nan, nan, nan, nan, nan, nan, nan, nan, nan, nan, nan, nan, 1.0, nan, nan, nan, nan, 2.0, 1.0, nan, nan, nan, nan, nan, nan, 1.0, nan, nan, 1.0, nan, 1.0, nan, nan, nan, nan, nan, 2.0, nan, 1.0, nan, nan, nan, nan, nan, 3.0, nan, 4.0, nan, nan, nan, nan, nan, nan, nan, nan, nan, nan, nan, nan, nan, nan, nan, 1.0, nan, nan, 12.0, 1.0, nan, 4.0, nan, 8.0, 1.0, 9.0, 2.0, 2.0, 1.0, 7.0, nan, 9.0, 12.0, nan, nan, 1.0, nan, 2.0, nan, nan, 3.0, nan, 1.0, nan, nan, 1.0, 1.0, 1.0, 4.0, 5.0, 3.0, 1.0, 5.0, nan, 19.0, nan, 5.0, 12.0, 13.0, 13.0, 1.0, nan, 1.0, nan, 1.0, 2.0, nan, nan, 1.0, nan, nan, 5.0, nan, 1.0, nan, 2.0, nan, nan, 1.0, nan, nan, nan, 13.0, nan, 1.0, nan, 1.0, 1.0, nan, 2.0, 1.0, 7.0, 6.0, 7.0, 1.0, nan, 1.0, nan, nan, nan, nan, nan, 6.0, 3.0, nan, nan, nan, nan, nan, 2.0, nan, nan, nan, 3.0, 3.0, 1.0, nan, 1.0, nan, 1.0, nan, 1.0, 1.0, nan, nan, nan, nan, 7.0, nan, 2.0, nan, nan, nan, 3.0, nan, nan, nan, nan, 1.0, nan, nan, 1.0, nan, nan, nan, nan, nan, nan, 2.0, 1.0, nan, nan, nan, 8.0, nan, 8.0, nan, nan, nan, nan, nan, 1.0, 3.0, 8.0, nan, 6.0, nan, 1.0, nan, 1.0, nan, 2.0, nan, nan, nan, 4.0, 4.0, nan, 1.0, nan, 1.0, 2.0, nan, nan, nan, 30.0, nan, nan, nan, nan, nan, 1.0, nan, nan, 1.0, 1.0, nan, nan, nan, nan, 1.0, 1.0, 3.0, nan, 3.0, 3.0, nan, nan, 2.0, 2.0, 3.0, 4.0, 2.0, 20.0, 2.0, 1.0, 5.0, nan, 9.0, 3.0, nan, nan, nan, 1.0, 3.0, 1.0, nan, nan, 9.0, 1.0, 2.0, nan, 1.0, nan, nan, 2.0, nan, nan, 2.0, 12.0, nan, 1.0, 13.0, 7.0, nan, 10.0, nan, 5.0, 10.0, 1.0, 16.0, 6.0, 3.0, 4.0, nan, nan, nan, 1.0, 10.0, nan, 1.0, nan, 6.0, nan, nan, nan, nan, nan, 3.0, nan, nan, 1.0, 1.0, nan, 9.0, 1.0, nan, 5.0, nan, 2.0, nan, nan, 1.0, nan, nan, 11.0, 2.0, 7.0, 4.0, nan, 2.0, nan, 4.0, 17.0, nan, 2.0, nan, nan, 2.0, 4.0, 1.0, 5.0, 3.0, nan, 1.0, nan, nan, nan, nan, 6.0, nan, 18.0, 4.0, 2.0, nan, 2.0, nan, nan, nan, nan, 4.0, 136.0, 8.0, 40.0, 12.0, 5.0, 9.0, 1.0, 5.0, 5.0, 8.0, nan, 5.0, 6.0, 1.0, nan, 1.0, nan, nan, 6.0, 18.0, 4.0, 6.0, 35.0, 50.0, 31.0, 14.0, 9.0, 37.0, 51.0, 4.0, 42.0, 6.0, 17.0, 45.0, 45.0, 1.0, 66.0, 9.0, 9.0, 111.0, 7.0, 10.0, 3.0, 3.0, 44.0, 43.0, 7.0, 13.0, 3.0, 2.0, 23.0, 5.0, 3.0, 8.0, 17.0, 2.0, 7.0, 28.0, 1.0, 14.0, 1.0, 2.0, 4.0, 32.0, 40.0, nan, 19.0, nan, 44.0, 8.0, 38.0, 3.0, 3.0, 2.0, nan, nan, nan, nan, 1.0, nan, 1.0, nan, 14.0, nan, nan, 2.0, 5.0, 2.0, nan, 22.0, nan, nan, 3.0, nan, 2.0, 9.0, 11.0, nan, 1.0, 20.0, 7.0, 26.0, 2.0, 2.0, 41.0, 3.0, 3.0, 3.0, 91.0, 17.0, 22.0, 54.0, 8.0, 16.0, 15.0, 35.0, 15.0, 5.0, 78.0, 9.0, 16.0, 11.0, 1.0, 4.0, 6.0, 10.0, 20.0, 5.0, 58.0, 9.0, nan, 5.0, 7.0, nan, nan, 26.0, 33.0, 1.0, nan, 6.0, 4.0, nan, 7.0, nan, 3.0, nan, nan, nan, 2.0, nan, 3.0, 1.0, 6.0, nan, nan, 4.0, 1.0, 1.0, 1.0, nan, 4.0, nan, 5.0, 4.0, nan, nan, nan, 3.0, 8.0, nan, 2.0, 2.0, nan, 2.0, 1.0, nan, nan, 3.0, nan, nan, 3.0, nan, 1.0, nan, nan, nan, nan, nan, 1.0, nan, nan, nan, 2.0, nan, 2.0, nan, nan, nan, nan, nan, nan, nan, 1.0, nan, 3.0, 1.0, 5.0, 2.0, nan, 2.0, 4.0, 3.0, 2.0, 3.0, 3.0, nan, nan, 1.0, 5.0, 5.0, 1.0, nan, nan, nan, 2.0, 3.0, 2.0, nan, nan, nan, nan, nan, nan, 2.0, nan, 1.0, 2.0, 2.0, nan, 3.0, 5.0, 1.0, 2.0, nan, nan, nan, nan, nan, nan, nan, 2.0, 3.0, 3.0, 3.0, nan, 2.0, nan, nan, nan, 2.0, 2.0, 1.0, nan, 6.0, nan, nan, nan, 1.0, 1.0, nan, 3.0, 1.0, 2.0, nan, 2.0, nan, nan, nan, nan, nan, nan, 2.0, 1.0, nan, 4.0, 2.0, nan, nan, nan, nan, 1.0, nan, nan, nan, nan, nan, 1.0, nan, nan, nan, nan, nan, nan, 1.0, 1.0, nan, nan, 13.0, nan, nan, 1.0, 1.0, 1.0, nan, 3.0, nan, 1.0, nan, 7.0, nan, 1.0, nan, nan, nan, nan, nan, nan, 1.0, nan, nan, nan, nan, nan, nan, nan, nan, nan, nan, nan, nan, nan, nan, nan, nan, nan, nan, 2.0, nan, 1.0, 7.0, 2.0, nan, nan, nan, nan, nan, nan, nan, nan, nan, nan, nan, nan, nan, nan, nan, nan, 1.0, nan, 2.0, nan, nan, nan, 3.0, nan, nan, nan, 7.0, nan, 5.0, 4.0, nan, 4.0, 1.0, nan, 14.0, 31.0, 1.0, 7.0, 2.0, 2.0, nan, 2.0, 2.0, nan, 7.0, 18.0, 4.0, 3.0, nan, nan, 15.0, nan, nan, 24.0, 4.0, 1.0, 1.0, 5.0, nan, 5.0, 1.0, nan, 12.0, 2.0, 1.0, 3.0, 1.0, 3.0, nan, nan, nan, 1.0, nan, 3.0, nan, 1.0, nan, nan, 1.0, nan, nan, 3.0, nan, nan, nan, nan, nan, 2.0, nan, 6.0, nan, 1.0, nan, nan, 1.0, nan, nan, 3.0, 1.0, nan, nan, 4.0, nan, 4.0, 2.0, nan, 1.0, nan, nan, nan, nan, nan, nan, nan, nan, nan, nan, 2.0, nan, nan, nan, nan, nan, nan, nan, nan, nan, nan, nan, nan, nan, nan, nan, nan, 2.0, nan, nan, 1.0, nan, nan, nan, nan, nan, 2.0, nan, 5.0, nan, nan, nan, nan, nan, nan, nan, nan, nan, nan, 2.0, nan, 1.0, nan, nan, 1.0, nan, nan, nan, nan, nan, nan, 10.0, nan, nan, nan, nan, nan, nan, nan, nan, nan, nan, 2.0, nan, nan, nan, nan, nan, nan, nan, nan, nan, nan, nan, nan, nan, nan, nan, nan, nan, 1.0, nan, 1.0, nan, nan, 2.0, 1.0, nan, 3.0, nan, nan, 1.0, nan, 5.0, nan, nan, nan, nan, nan, 2.0, nan, 11.0, 3.0, nan, 3.0, nan, nan, nan, nan, nan, 4.0, nan, nan, nan, nan, nan, nan, 2.0, 1.0, nan, 2.0, nan, nan, nan, nan, 1.0, 2.0, 8.0, 1.0, 4.0, 3.0, nan, nan, 2.0, 3.0, 1.0, nan, nan, 5.0, 1.0, 19.0, nan, nan, 1.0, nan, 2.0, nan, 11.0, 6.0, 5.0, nan, nan, 3.0, nan, nan, nan, 3.0, nan, 2.0, 37.0, 6.0, 22.0, 1.0, 4.0, nan, 11.0, nan, nan, 7.0, nan, 14.0, 21.0, nan, nan, 2.0, 2.0, 3.0, nan, 1.0, 11.0, nan, 10.0, 4.0, 2.0, 7.0, 7.0, 2.0, 8.0, nan, 3.0, 8.0, nan, 2.0, 3.0, 122.0, 21.0, 3.0, 4.0, 7.0, 5.0, nan, nan, 6.0, 8.0, 1.0, 8.0, 21.0, 2.0, 1.0, 16.0, 3.0, nan, 8.0, 1.0, 7.0, 3.0, nan, nan, 3.0, 11.0, 6.0, 10.0, 3.0, 7.0, 5.0, 3.0, nan, nan, nan, 1.0, nan, nan, nan, 5.0, 3.0, 2.0, nan, 22.0, nan, 8.0, nan, 9.0, 1.0, nan, 2.0, 3.0, nan, 1.0, 1.0, 5.0, 7.0, 11.0, nan, nan, 5.0, 1.0, nan, 1.0, nan, 2.0, 10.0, nan, nan, nan, nan, 2.0, nan, 1.0, 2.0, 2.0, nan, nan, 3.0, 2.0, nan, 3.0, nan, 6.0, 1.0, 12.0, 2.0, nan, 17.0, 18.0, 10.0, 5.0, 2.0, 39.0, nan, 22.0, 54.0, 10.0, 1.0, 1.0, 8.0, 2.0, 11.0, nan, 2.0, nan, 1.0, nan, 21.0, 2.0, 29.0, 2.0, 27.0, 12.0, 11.0, 18.0, 6.0, 61.0, 11.0, 33.0, 9.0, 17.0, 7.0, 7.0, 2.0, 1.0, 1.0, 7.0, 6.0, nan, 3.0, 2.0, nan, nan, nan, 3.0, nan, nan, 11.0, nan, 10.0, 1.0, nan, 3.0, nan, 2.0, 3.0, 1.0, 6.0, 1.0, 8.0, 3.0, nan, nan, 7.0, nan, nan, 4.0, 15.0, 1.0, 1.0, 2.0, 79.0, 24.0, 1.0, 9.0, 8.0, 9.0, 1.0, 6.0, 9.0, nan, 4.0, nan, 9.0, nan, 8.0, nan, 3.0, nan, 2.0, 4.0, nan, 1.0, 2.0, 8.0, nan, nan, nan, 5.0, 1.0, 9.0, 16.0, nan, 9.0, nan, nan, 1.0, nan, 7.0, nan, 7.0, 3.0, nan, 2.0, 6.0, nan, 10.0, 4.0, 24.0, 3.0, 8.0, 3.0, 11.0, 5.0, nan, 8.0, 4.0, nan, 5.0, 2.0, nan, 3.0, 43.0, 5.0, 4.0, nan, 15.0, nan, 1.0, 8.0, 3.0, nan, 4.0, 2.0, nan, 1.0, nan, 3.0, 3.0, 2.0, 2.0, 2.0, nan, 1.0, 16.0, 3.0, 11.0, nan, 1.0, 1.0, nan, 6.0, 9.0, nan, 15.0, 8.0, 4.0, 5.0, 17.0, 2.0, nan, 4.0, 3.0, 14.0, nan, 2.0, 23.0, 3.0, 1.0, 7.0, nan, 9.0, 13.0, nan, 4.0, nan, nan, nan, nan, 3.0, 3.0, 2.0, 1.0, 1.0, nan, 8.0, 6.0, nan, nan, nan, 2.0, nan, nan, 6.0, 5.0, nan, 43.0, 36.0, 11.0, 5.0, 1.0, 11.0, 5.0, nan, 3.0, nan, nan, 6.0, nan, nan, 3.0, nan, nan, 8.0, nan, 3.0, nan, 1.0, 11.0, 2.0, 5.0, nan, nan, nan, 7.0, 2.0, nan, 1.0, nan, 1.0, 3.0, 1.0, nan, nan, nan, 17.0, 3.0, 3.0, 20.0, 7.0, 1.0, 1.0, 2.0, 16.0, 1.0, nan, nan, nan, 12.0, 2.0, nan, nan, 3.0, nan, 1.0, nan, nan, nan, 3.0, nan, 3.0, nan, nan, 1.0, 5.0, nan, nan, 2.0, 10.0, 7.0, nan, nan, 1.0, 3.0, nan, nan, 10.0, 3.0, 2.0, 1.0, 1.0, nan, 2.0, 4.0, 28.0, 4.0, 1.0, nan, 1.0, nan, nan, nan, 3.0, 2.0, nan, 1.0, nan, nan, nan, nan, 1.0, nan, 2.0, 2.0, nan, 2.0, 1.0, 6.0, 7.0, nan, 3.0, 2.0, 5.0, 3.0, 12.0, 19.0, 3.0, 8.0, nan, 1.0, nan, nan, 1.0, nan, nan, 3.0, nan, 9.0, nan, nan, nan, nan, nan, nan, nan, nan, nan, nan, nan, nan, nan, 1.0, nan, nan, 1.0, 1.0, nan, nan, nan, nan, 2.0, nan, 5.0, nan, nan, nan, nan, nan, nan, 7.0, 1.0, nan, nan, nan, nan, nan, nan, 9.0, 3.0, 18.0, nan, nan, 2.0, nan, 1.0, nan, 2.0, nan, nan, nan, nan, nan, nan, nan, 1.0, 2.0, nan, 6.0, 4.0, nan, nan, nan, nan, nan, nan, 2.0, 2.0, nan, 9.0, nan, 4.0, nan, nan, 2.0, nan, nan, 7.0, nan, 1.0, 2.0, nan, 6.0, 19.0, 1.0, nan, nan, nan, nan, 10.0, nan, nan, 22.0, 50.0, nan, nan, 5.0, nan, nan, 5.0, 3.0, 3.0, 10.0, 18.0, nan, nan, 12.0, 24.0, 5.0, 7.0, 2.0, 14.0, nan, 1.0, nan, 1.0, 2.0, 2.0, nan, nan, nan, 2.0, nan, 2.0, nan, 2.0, nan, 1.0, nan, nan, nan, nan, 1.0, nan, nan, nan, 1.0, nan, nan, nan, nan, nan, 1.0, nan, 2.0, nan, nan, nan, 5.0, 1.0, nan, 2.0, 3.0, 1.0, nan, nan, nan, nan, nan, nan, 4.0, 1.0, nan, nan, nan, 3.0, 1.0, nan, nan, 1.0, nan, nan, nan, nan, nan, nan, nan, 1.0, nan, 1.0, nan, nan, nan, nan, nan, nan, nan, 3.0, 26.0, 3.0, 1.0, nan, nan, 12.0, 2.0, 3.0, 1.0, 5.0, nan, 5.0, nan, 2.0, 1.0, nan, nan, nan, nan, nan, 1.0, nan, nan, nan, nan, 1.0, 2.0, nan, 2.0, 4.0, 2.0, nan, nan, nan, nan, nan, nan, nan, 1.0, nan, nan, nan, nan, nan, nan, nan, nan, 3.0, nan, nan, nan, nan, nan, nan, nan, nan, nan, nan, nan, nan, nan, nan, nan, nan, nan, 2.0, 5.0, nan, nan, nan, nan, nan, 1.0, nan, 1.0, nan, nan, 1.0, nan, nan, nan, nan, nan, nan, nan, 2.0, 4.0, nan, nan, nan, nan, nan, nan, nan, nan, nan, nan, nan, nan, nan, nan, 2.0, nan, 1.0, nan, 1.0, nan, 3.0, nan, nan, nan, nan, nan, nan, nan, nan, nan, nan, 2.0, 3.0, nan, nan, nan, 1.0, nan, nan, 3.0, 7.0, nan, 1.0, nan, 2.0, 4.0, 2.0, nan, nan, 1.0, 1.0, 3.0, nan, 1.0, 7.0, 5.0, nan, nan, nan, 2.0, nan, nan, nan, 4.0, nan, nan, 7.0, 6.0, nan, 4.0, nan, nan, nan, nan, 4.0, nan, nan, nan, nan, 1.0, nan, 5.0, nan, nan, 4.0, nan, nan, nan, 2.0, nan, nan, nan, nan, nan, nan, nan, nan, nan, nan, 1.0, nan, nan, nan, nan, nan, nan, 1.0, nan, nan, nan, nan, nan, nan, nan, 1.0, nan, nan, nan, nan, 3.0, nan, nan, nan, nan, nan, nan, nan, nan, nan, nan, nan, nan, nan, 1.0, nan, nan, nan, nan, nan, nan, nan, nan, 2.0, 2.0, nan, nan, nan, nan, nan, nan, nan, nan, nan, nan, nan, nan, nan, nan, 12.0, nan, nan, nan, nan, nan, nan, nan, nan, nan, 2.0, 9.0, nan, 8.0, 53.0, 5.0, 3.0, nan, nan, 1.0, 2.0, 2.0, nan, 5.0, 1.0, nan, nan, 1.0, 66.0, 26.0, 1.0, nan, 6.0, 2.0, 7.0, nan, nan, nan, nan, nan, nan, nan, nan, 2.0, 1.0, nan, 4.0, nan, 12.0, nan, 6.0, nan, 6.0, 3.0, 4.0, 4.0, nan, 5.0, nan, nan, 3.0, 14.0, nan, nan, nan, nan, nan, nan, nan, 6.0, nan, nan, 1.0, 1.0, nan, 3.0, nan, nan, nan, nan, nan, 9.0, 5.0, 1.0, nan, nan, 2.0, nan, 1.0, nan, nan, 4.0, 4.0, 19.0, 18.0, 18.0, 7.0, 15.0, nan, 4.0, 15.0, 25.0, nan, 41.0, 8.0, 3.0, nan, 2.0, 5.0, 22.0, 2.0, nan, 12.0, 5.0, 4.0, 5.0, 2.0, 3.0, 15.0, 1.0, nan, 5.0, 3.0, 3.0, 3.0, 4.0, 1.0, nan, nan, 8.0, nan, nan, 3.0, 4.0, nan, 1.0, 2.0, 42.0, 21.0, 4.0, 3.0, 24.0, 2.0, 14.0, 2.0, 3.0, nan, nan, 5.0, nan, nan, 3.0, 1.0, nan, 4.0, 4.0, nan, nan, nan, nan, nan, 3.0, 7.0, 3.0, nan, 10.0, 5.0, 1.0, nan, 5.0, nan, 1.0, 15.0, 2.0, 10.0, 7.0, 2.0, nan, 6.0, 1.0, 2.0, 5.0, 3.0, 38.0, nan, nan, 5.0, 1.0, 2.0, nan, nan, 28.0, 2.0, 42.0, 21.0, 1.0, 19.0, nan, 68.0, 62.0, 6.0, 12.0, nan, 2.0, 12.0, 1.0, nan, 9.0, 5.0, 1.0, nan, nan, 4.0, nan, nan, nan, nan, 2.0, nan, 5.0, 3.0, nan, 4.0, nan, nan, nan, nan, nan, 4.0, 2.0, 5.0, nan, 1.0, nan, nan, 2.0, nan, 3.0, nan, nan, 8.0, nan, nan, 1.0, nan, nan, nan, 1.0, nan, nan, 1.0, nan, 1.0, 2.0, nan, nan, 2.0, nan, 1.0, 7.0, 3.0, nan, 3.0, 6.0, 5.0, 2.0, nan, nan, nan, 5.0, 1.0, 14.0, 5.0, 4.0, nan, 8.0, 3.0, nan, 13.0, 1.0, 1.0, 2.0, nan, nan, nan, nan, nan, 1.0, nan, nan, nan, nan, 20.0, 2.0, 1.0, 1.0, 2.0, nan, nan, 2.0, 2.0, nan, 16.0, 1.0, 5.0, nan, 2.0, 2.0, nan, nan, nan, nan, nan, nan, 4.0, 2.0, nan, nan, 3.0, 4.0, 1.0, 3.0, nan, nan, 3.0, 4.0, 1.0, 4.0, nan, 3.0, nan, nan, 1.0, 1.0, 1.0, nan, nan, nan, nan, nan, 1.0, 1.0, 5.0, 3.0, nan, 4.0, nan, 2.0, 1.0, nan, nan, 1.0, 1.0, nan, nan, nan, nan, nan, 1.0, 3.0, nan, 1.0, nan, nan, nan, 2.0, nan, nan, nan, nan, nan, nan, 1.0, nan, 1.0, nan, nan, nan, nan, nan, nan, nan, nan, nan, nan, nan, nan, nan, 4.0, 1.0, 2.0, nan, 2.0, nan, 2.0, 3.0, nan, nan, nan, nan, nan, nan, nan, nan, nan, nan, nan, nan, nan, nan, nan, nan, 3.0, 3.0, nan, 1.0, nan, nan, nan, nan, nan, nan, nan, 1.0, nan, nan, nan, nan, 10.0, nan, nan, 1.0, nan, nan, nan, 6.0, nan, nan, nan, 3.0, nan, nan, nan, nan, nan, nan, nan, nan, nan, nan, nan, nan, nan, nan, nan, nan, nan, nan, nan, nan, nan, 1.0, nan, nan, nan, nan, nan, nan, nan, nan, nan, nan, nan, nan, nan, nan, nan, 1.0, nan, nan, nan, nan, nan, 1.0, 2.0, nan, nan, nan, nan, nan, nan, nan, 12.0, nan, nan, 5.0, 1.0, 11.0, 8.0, 2.0, 4.0, 9.0, 2.0, 8.0, nan, nan, 7.0, 1.0, 2.0, 6.0, 4.0, nan, 2.0, nan, nan, nan, 2.0, nan, 1.0, 4.0, nan, nan, 1.0, 3.0, nan, nan, 1.0, 36.0, 7.0, 2.0, nan, 1.0, nan, nan, nan, nan, nan, nan, 6.0, 2.0, nan, 13.0, nan, 4.0, nan, nan, nan, nan, nan, nan, 2.0, 1.0, nan, nan, 6.0, 12.0, nan, 2.0, nan, 1.0, nan, 15.0, 2.0, nan, nan, nan, nan, nan, nan, 1.0, nan, nan, nan, nan, 5.0, 2.0, nan, 7.0, nan, nan, 5.0, 7.0, nan, nan, nan, nan, 3.0, 3.0, nan, nan, nan, 1.0, nan, 1.0, nan, 2.0, 4.0, nan, nan, 2.0, 9.0, nan, nan, nan, 5.0, 5.0, nan, 3.0, nan, nan, nan, nan, nan, nan, nan, 5.0, 1.0, nan, 7.0, nan, nan, nan, nan, nan, nan, nan, 1.0, nan, 1.0, nan, nan, nan, nan, nan, nan, nan, 1.0, nan, nan, nan, nan, nan, nan, nan, nan, nan, nan, nan, 6.0, nan, nan, nan, nan, 4.0, nan, nan, nan, nan, nan, nan, nan, nan, nan, 1.0, nan, nan, 5.0, nan, nan, 1.0, nan, 4.0, nan, nan, 1.0, nan, nan, nan, nan, nan, nan, nan, 7.0, nan, nan, nan, nan, 1.0, nan, nan, nan, nan, 7.0, 2.0, nan, nan, 4.0, 3.0, nan, nan, 6.0, nan, 9.0, 8.0, nan, nan, nan, 1.0, 4.0, 3.0, nan, nan, nan, nan, nan, nan, nan, 2.0, nan, nan, nan, nan, 2.0, nan, 2.0, nan, nan, nan, nan, nan, nan, 1.0, nan, 8.0, 1.0, nan, nan, nan, nan, nan, 1.0, 1.0, nan, 1.0, nan, 1.0, nan, nan, nan, 4.0, 14.0, 2.0, 1.0, 5.0, 4.0, 3.0, nan, nan, 6.0, 2.0, nan, nan, nan, nan, nan, nan, nan, 13.0, nan, nan, 1.0, nan, 2.0, 8.0, nan, nan, nan, 4.0, nan, nan, nan, nan, 2.0, nan, nan, nan, nan, 3.0, nan, nan, nan, nan, 3.0, nan, nan, nan, nan, nan, nan, nan, nan, nan, nan, nan, nan, nan, nan, nan, nan, nan, nan, nan, nan, nan, nan, nan, nan, 1.0, nan, nan, nan, 1.0, nan, nan, 10.0, nan, 4.0, nan, nan, nan, nan, nan, 8.0, nan, 1.0, 8.0, nan, nan, 9.0, 16.0, nan, 1.0, 4.0, 1.0, nan, 2.0, 4.0, nan, 1.0, 7.0, nan, 1.0, nan, 2.0, nan, 3.0, nan, nan, 1.0, 1.0, nan, nan, 1.0, nan, nan, 2.0, nan, nan, nan, nan, 1.0, nan, nan, nan, nan, nan, nan, nan, nan, nan, nan, nan, 7.0, 4.0, nan, 5.0, 4.0, nan, 2.0, nan, nan, nan, nan, nan, nan, nan, nan, nan, nan, nan, 7.0, nan, 18.0, 3.0, nan, nan, nan, 5.0, nan, nan, nan, nan, nan, nan, nan, 8.0, 1.0, nan, nan, nan, 1.0, nan, nan, 3.0, nan, nan, 5.0, 3.0, nan, nan, nan, 2.0, nan, nan, nan, nan, nan, nan, 2.0, nan, nan, nan, 1.0, 1.0, nan, nan, 1.0, 1.0, 1.0, nan, 2.0, nan, 1.0, nan, nan, 1.0, nan, nan, nan, nan, nan, nan, nan, 1.0, nan, nan, 1.0, nan, nan, nan, nan, 3.0, nan, nan, nan, nan, nan, 7.0, 2.0, nan, 5.0, nan, nan, 2.0, nan, nan, nan, nan, 1.0, nan, nan, nan, 6.0, 2.0, 3.0, 2.0, nan, nan, 1.0, 2.0, nan, 2.0, nan, 6.0, nan, nan, nan, 5.0, 2.0, 3.0, nan, nan, nan, 1.0, 13.0, 8.0, 4.0, 2.0, 5.0, nan, nan, 2.0, nan, nan, nan, nan, nan, nan, 4.0, nan, 6.0, 4.0, 1.0, 1.0, 6.0, 12.0, 2.0, 5.0, 3.0, 2.0, 2.0, 5.0, nan, nan, 3.0, nan, 10.0, nan, 3.0, nan, nan, 8.0, 1.0, nan, nan, 3.0, nan, nan, nan, nan, nan, nan, nan, 1.0, nan, nan, 1.0, nan, 1.0, nan, 2.0, nan, nan, nan, nan, nan, 10.0, 1.0, nan, 2.0, 3.0, nan, 7.0, nan, nan, nan, nan, 3.0, 3.0, 3.0, nan, 28.0, 1.0, 17.0, nan, 6.0, 7.0, 5.0, 1.0, nan, nan, 7.0, nan, 2.0, 7.0, nan, 2.0, 1.0, nan, nan, nan, 2.0, 8.0, nan, nan, 4.0, 5.0, nan, nan, nan, nan, nan, nan, 2.0, nan, nan, nan, 3.0, nan, 2.0, nan, nan, 3.0, nan, 1.0, nan, nan, nan, nan, nan, 1.0, nan, nan, nan, nan, nan, nan, nan, nan, nan, nan, nan, nan, nan, nan, nan, nan, nan, nan, nan, nan, nan, nan, nan, nan, nan, nan, nan, nan, nan, nan, nan, nan, nan, nan, nan, nan, nan, nan, nan, nan, nan, nan, nan, nan, nan, nan, nan, nan, nan, nan, nan, nan, nan, nan, nan, nan, 2.0, nan, 5.0, nan, nan, 4.0, 1.0, nan, nan, nan, nan, nan, 1.0, nan, nan, nan, nan, nan, nan, nan, nan, 4.0, 1.0, nan, nan, nan, nan, 1.0, nan, nan, nan, nan, 1.0, 1.0, nan, nan, nan, nan, nan, nan, nan, nan, nan, nan, nan, nan, nan, 2.0, 3.0, nan, nan, 16.0, 5.0, 1.0, 3.0, nan, nan, nan, nan, 12.0, 3.0, nan, nan, nan, 3.0, 4.0, nan, nan, nan, 1.0, nan, nan, nan, nan, nan, nan, 2.0, nan, nan, nan, nan, nan, nan, nan, nan, nan, nan, nan, nan, nan, nan, nan, nan, nan, 2.0, 1.0, nan, nan, nan, nan, 1.0, nan, nan, nan, nan, nan, nan, nan, nan, nan, nan, nan, nan, nan, nan, nan, nan, nan, nan, nan, nan, nan, 5.0, 4.0, 2.0, nan, 3.0, 1.0, 2.0, nan, nan, nan, nan, nan, nan, nan, nan, 4.0, nan, nan, nan, nan, nan, nan, nan, nan, nan, nan, nan, nan, nan, nan, nan, nan, 1.0, nan, nan, 4.0, 2.0, nan, nan, nan, 1.0, nan, nan, nan, nan, nan, 1.0, nan, nan, nan, nan, nan, nan, nan, 1.0, nan, nan, nan, nan, nan, nan, nan, nan, nan, nan, nan, nan, nan, nan, nan, nan, nan, 2.0, 7.0, nan, nan, 1.0, nan, nan, nan, nan, nan, nan, nan, nan, nan, nan, nan, nan, nan, nan, nan, nan, 1.0, nan, nan, 9.0, nan, nan, nan, nan, nan, nan, 11.0, 1.0, nan, 2.0, nan, 1.0, nan, nan, nan, 5.0, 6.0, 1.0, 2.0, nan, 1.0, nan, nan, 1.0, nan, nan, nan, 15.0, nan, nan, nan, nan, nan, nan, nan, nan, nan, nan, nan, nan, nan, nan, nan, nan, 4.0, nan, nan, nan, nan, nan, nan, nan, nan, nan, nan, nan, nan, nan, nan, 1.0, nan, nan, nan, nan, nan, nan, nan, nan, nan, nan, nan, nan, nan, nan, nan, nan, 2.0, nan, nan, nan, nan, nan, 2.0, nan, 1.0, nan, nan, nan, 1.0, nan, nan, nan, nan, nan, nan, nan, 2.0, 3.0, nan, nan, 1.0, 2.0, nan, nan, nan, nan, nan, nan, nan, nan, nan, nan, nan, nan, nan, nan, nan, nan, nan, nan, nan, nan, nan, nan, nan, nan, nan, nan, nan, nan, nan, nan, nan, nan, nan, nan, nan, nan, nan, nan, nan, nan, nan, nan, nan, nan, nan, nan, nan, nan, nan, nan, nan, nan, nan, nan, nan, nan, nan, nan, nan, nan, nan, nan, nan, nan, nan, nan, nan, nan, 5.0, nan, nan, nan, nan, nan, nan, nan, nan, nan, nan, nan, nan, 1.0, nan, nan, nan, nan, nan, nan, nan, nan, nan, nan, nan, nan, nan, nan, nan, nan, nan, nan, nan, nan, nan, nan, nan, nan, nan, nan, nan, nan, nan, nan, nan, nan, nan, nan, nan, nan, nan, nan, nan, nan, nan, nan, nan, nan, 10.0, 4.0, 2.0, nan, nan, nan, nan, 3.0, 7.0, 2.0, 5.0, 9.0, 3.0, nan, 4.0, 9.0, 9.0, nan, nan, 2.0, nan, 11.0, nan, 1.0, 1.0, 2.0, nan, nan, nan, nan, nan, nan, nan, nan, nan, 1.0, nan, nan, nan, nan, nan, nan, nan, nan, nan, nan, 1.0, nan, nan, nan, 1.0, nan, nan, nan, nan, nan, nan, nan, nan, nan, nan, nan, nan, nan, nan, nan, nan, nan, nan, nan, nan, nan, 2.0, nan, nan, nan, nan, nan, nan, nan, nan, nan, nan, nan, nan, nan, 2.0, nan, nan, nan, nan, nan, nan, nan, nan, nan, nan, nan, nan, nan, nan, nan, nan, nan, nan, nan, nan, nan, nan, 1.0, nan, nan, 4.0, 4.0, nan, nan, nan, nan, nan, nan, nan, 2.0, nan, nan, 1.0, 3.0, nan, nan, nan, nan, nan, nan, nan, nan, nan, nan, nan, 1.0, nan, nan, nan, nan, nan, nan, nan, nan, 2.0, nan, nan, nan, nan, nan, nan, nan, nan, nan, nan, nan, nan, nan, nan, nan, nan, nan, nan, nan, nan, nan, nan, nan, nan, nan, nan, nan, nan, nan, nan, 3.0, nan, nan, nan, nan, nan, nan, nan, nan, nan, nan, nan, nan, nan, nan, nan, nan, nan, nan, nan, nan, nan, 4.0, nan, nan, nan, nan, nan, 3.0, nan, nan, nan, nan, nan, nan, nan, nan, nan, nan, nan, nan, nan, nan, nan, nan, nan, nan, nan, nan, nan, nan, nan, nan, 1.0, nan, nan, nan, nan, nan, nan, nan, nan, nan, nan, nan, nan, nan, nan, nan, nan, nan, 2.0, nan, nan, nan, nan, nan, nan, nan, nan, 7.0, nan, nan, nan, nan, nan, nan, nan, nan, 4.0, nan, nan, nan, nan, nan, nan, nan, nan, nan, nan, nan, nan, nan, 1.0, nan, nan, 5.0, nan, nan, nan, nan, 1.0, 5.0, 2.0, nan, nan, 3.0, nan, nan, nan, nan, nan, nan, nan, nan, nan, nan, nan, nan, nan, nan, 4.0, nan, nan, 4.0, 3.0, nan, nan, nan, nan, nan, nan, nan, 1.0, 3.0, 13.0, 1.0, 2.0, nan, nan, nan, nan, 4.0, nan, nan, nan, 1.0, nan, 4.0, 3.0, nan, 3.0, 4.0, nan, nan, nan, 2.0, 1.0, nan, nan, nan, nan, 3.0, nan, nan, 12.0, 5.0, 4.0, nan, nan, 4.0, nan, 1.0, nan, nan, 2.0, nan, nan, nan, nan, nan, nan, nan, 1.0, nan, nan, nan, nan, nan, nan, nan, nan, nan, nan, nan, nan, nan, nan, nan, nan, nan, nan, nan, nan, 1.0, 1.0, nan, nan, nan, nan, nan, nan, nan, 1.0, nan, 1.0, nan, nan, 2.0, nan, nan, nan, nan, nan, nan, 1.0, nan, nan, nan, nan, 2.0, nan, 1.0, nan, nan, nan, 1.0, nan, nan, 5.0, nan, nan, nan, nan, nan, nan, nan, nan, nan, nan, nan, nan, 1.0, 1.0, nan, nan, nan, nan, nan, nan, nan, nan, nan, nan, nan, nan, nan, nan, nan, 4.0, nan, nan, nan, nan, nan, nan, nan, nan, nan, 2.0, nan, nan, nan, 1.0, nan, nan, nan, nan, nan, nan, 3.0, nan, nan, nan, nan, nan, nan, nan, nan, nan, nan, nan, nan, nan, nan, nan, nan, 1.0, nan, nan, nan, nan, nan, nan, nan, nan, nan, nan, nan, nan, nan, nan, nan, nan, nan, nan, nan, nan, nan, nan, nan, nan, nan, nan, nan, nan, nan, nan, nan, nan, nan, nan, nan, nan, 2.0, nan, nan, nan, nan, nan, nan, nan, nan, nan, nan, nan, nan, 5.0, nan, nan, nan, nan, nan, nan, nan, nan, 2.0, nan, nan, nan, nan, nan, nan, nan, nan, nan, nan, nan, nan, nan, nan, nan, nan, nan, nan, 6.0, 5.0, 2.0, 1.0, nan, nan, 3.0, nan, nan, 8.0, nan, 4.0, nan, nan, 3.0, 1.0, nan, nan, nan, 1.0, nan, nan, nan, 1.0, nan, 3.0, nan, nan, nan, nan, nan, 1.0, nan, nan, nan, nan, nan, nan, nan, nan, nan, nan, nan, nan, nan, nan, nan, nan, nan, 4.0, nan, nan, 1.0, nan, nan, nan, nan, nan, 1.0, nan, 4.0, nan, nan, nan, nan, nan, 5.0, nan, nan, nan, nan, nan, nan, nan, nan, nan, nan, nan, 1.0, nan, 2.0, nan, nan, nan, nan, nan, 2.0, nan, nan, nan, nan, nan, nan, nan, nan, nan, nan, nan, nan, nan, nan, nan, nan, nan, nan, nan, nan, nan, nan, nan, nan, nan, nan, nan, 1.0, nan, nan, nan, nan, nan, nan, nan, 3.0, nan, nan, 3.0, 3.0, nan, nan, nan, nan, nan, nan, nan, nan, nan, nan, nan, nan, nan, nan, nan, nan, nan, nan, nan, nan, nan, nan, nan, nan, nan, nan, nan, nan, nan, nan, nan, nan, nan, nan, nan, nan, nan, nan, nan, nan, nan, nan, nan, nan, nan, nan, nan, nan, nan, nan, nan, nan, nan, 3.0, nan, nan, nan, nan, nan, nan, nan, nan, nan, nan, nan, nan, nan, nan, nan, nan, nan, nan, nan, nan, nan, nan, nan, nan, nan, nan, nan, nan, nan, nan, nan, nan, nan, nan, nan, nan, nan, 2.0, 1.0, nan, nan, nan, 2.0, nan, nan, nan, nan, nan, nan, nan, nan, nan, nan, 1.0, nan, nan, nan, 3.0, nan, nan, nan, 1.0, nan, nan, nan, nan, nan, nan, nan, nan, nan, nan, 4.0, nan, nan, nan, nan, nan, nan, nan, nan, nan, nan, nan, nan, nan, nan, nan, nan, nan, nan, nan, nan, nan, nan, nan, nan, 1.0, nan, nan, nan, nan, nan, nan, nan, nan, nan, nan, nan, nan, nan, nan, nan, nan, nan, nan, nan, nan, nan, 3.0, nan, nan, nan, nan, nan, nan, nan, nan, nan, nan, nan, nan, nan, nan, nan, nan, nan, nan, 2.0, nan, nan, nan, nan, nan, nan, nan, nan, nan, 1.0, nan, nan, 2.0, nan, nan, nan, nan, nan, nan, nan, nan, nan, nan, nan, 1.0, nan, nan, nan, nan, nan, nan, nan, nan, nan, nan, nan, nan, nan, nan, nan, nan, nan, nan, nan, nan, nan, nan, nan, nan, nan, 5.0, nan, nan, nan, nan, nan, nan, 4.0, nan, nan, nan, 2.0, nan, nan, 5.0, nan, 1.0, 1.0, 7.0, 1.0, nan, nan, 1.0, nan, nan, nan, nan, 1.0, nan, nan, nan, nan, nan, nan, nan, nan, nan, nan, nan, nan, nan, nan, nan, nan, nan, nan, nan, nan, nan, nan, nan, nan, nan, nan, nan, nan, nan, nan, nan, 1.0, nan, nan, nan, nan, nan, 2.0, nan, nan, nan, nan, nan, nan, nan, nan, nan, nan, nan, nan, nan, nan, nan, nan, 2.0, nan, nan, nan, nan, 1.0, nan, nan, nan, nan, nan, nan, nan, nan, nan, nan, nan, nan, nan, 1.0, nan, nan, nan, nan, nan, nan, nan, nan, nan, nan, nan, nan, nan, nan, nan, nan, nan, nan, nan, nan, nan, nan, nan, nan, nan, nan, nan, nan, nan, nan, nan, nan, nan, nan, nan, nan, nan, nan, nan, nan, nan, nan, nan, nan, 1.0, nan, nan, nan, nan, nan, nan, nan, nan, nan, nan, nan, nan, nan, 1.0, nan, nan, nan, 4.0, nan, nan, nan, nan, nan, nan, nan, nan, nan, nan, nan, nan, nan, nan, nan, nan, nan, nan, nan, nan, nan, nan, nan, nan, nan, nan, nan, nan, nan, nan, nan, nan, nan, nan, nan, nan, nan, nan, nan, nan, nan, nan, nan, nan, nan, nan, nan, nan, nan, nan, nan, nan, nan, nan, nan, 1.0, nan, nan, nan, nan, nan, nan, nan, nan, 1.0, nan, nan, 3.0, nan, nan, nan, nan, nan, nan, nan, nan, nan, nan, nan, nan, nan, nan, 2.0, nan, nan, nan, 1.0, nan, nan, nan, nan, nan, nan, 1.0, nan, 3.0, nan, nan, 3.0, nan, nan, nan, nan, nan, nan, nan, nan, nan, 1.0, nan, nan, nan, 1.0, nan, nan, nan, nan, 2.0, nan, nan, 3.0, nan, nan, nan, nan, nan, nan, nan, 1.0, nan, nan, nan, nan, nan, 2.0, nan, nan, nan, nan, nan, nan, nan, nan, nan, nan, nan, nan, nan, nan, nan, nan, nan, nan, nan, nan, nan, nan, nan, nan, nan, nan, nan, nan, nan, nan, nan, nan, nan, nan, nan, nan, nan, nan, 2.0, nan, nan, nan, nan, nan, 2.0, nan, nan, 6.0, nan, nan, nan, nan, 1.0, nan, nan, nan, nan, nan, nan, nan, nan, nan, nan, 1.0, nan, nan, nan, nan, nan, nan, nan, nan, nan, nan, nan, nan, nan, nan, nan, nan, nan, nan, nan, nan, nan, nan, nan, nan, nan, nan, nan, nan, nan, nan, nan, nan, nan, nan, nan, nan, nan, nan, nan, nan, nan, nan, nan, nan, 1.0, nan, nan, nan, nan, nan, nan, nan, nan, nan, nan, nan, 4.0, nan, nan, nan, nan, 1.0, nan, nan, nan, nan, nan, nan, nan, nan, nan, nan, nan, nan, nan, nan, nan, nan, nan, nan, nan, nan, nan, nan, nan, nan, nan, 2.0, nan, nan, 2.0, nan, nan, nan, nan, nan, nan, nan, nan, nan, nan, nan, nan, nan, nan, nan, nan, nan, nan, nan, nan, nan, nan, nan, nan, nan, nan, nan, nan, nan, nan, nan, nan, 3.0, nan, nan, nan, nan, nan, nan, nan, nan, nan, 1.0, nan, 1.0, nan, nan, nan, nan, nan, nan, nan, nan, nan, nan, nan, nan, nan, nan, nan, nan, nan, nan, 1.0, nan, nan, nan, 1.0, nan, 1.0, nan, nan, nan, nan, nan, nan, nan, nan, 4.0, nan, nan, nan, nan, nan, nan, nan, nan, nan, 6.0, nan, nan, nan, nan, nan, nan, nan, nan, nan, nan, nan, nan, nan, nan, nan, nan, nan, nan, nan, nan, nan, nan, nan, nan, nan, nan, nan, nan, nan, 2.0, nan, nan, nan, nan, nan, nan, nan, nan, nan, nan, nan, nan, nan, nan, nan, nan, nan, nan, nan, nan, nan, nan, nan, nan, nan, nan, nan, nan, nan, nan, nan, nan, nan, nan, nan, nan, nan, 1.0, nan, nan, nan, nan, nan, nan, 2.0, nan, nan, nan, nan, 2.0, nan, nan, nan, nan, nan, nan, nan, nan, nan, nan, nan, nan, 1.0, nan, nan, nan, nan, nan, nan, nan, nan, nan, nan, nan, nan, nan, nan, nan, nan, 3.0, nan, nan, nan, nan, nan, nan, nan, nan, nan, nan, nan, nan, nan, nan, nan, nan, 1.0, nan, nan, nan, nan, nan, nan, nan, nan, nan, nan, nan, nan, nan, 1.0, nan, nan, nan, nan, nan, nan, nan, nan, nan, nan, nan, nan, nan, nan, nan, nan, nan, nan, nan, nan, nan, nan, nan, 1.0, nan, nan, nan, nan, nan, nan, nan, nan, nan, nan, nan, nan, nan, nan, nan, nan, 1.0, nan, nan, nan, nan, nan, nan, nan, nan, nan, nan, nan, nan, nan, nan, 1.0, nan, nan, nan, nan, nan, 2.0, nan, nan, nan, nan, 2.0, nan, nan, nan, nan, nan, nan, 1.0, nan, nan, nan, nan, nan, nan, nan, nan, nan, nan, nan, nan, nan, nan, 4.0, nan, nan, nan, nan, nan, 2.0, nan, nan, 1.0, nan, 1.0, nan, nan, nan, nan, nan, nan, 1.0, nan, nan, nan, nan, nan, nan, 2.0, 1.0, nan, 3.0, nan, nan, nan, nan, 1.0, nan, nan, nan, nan, nan, nan, nan, nan, nan, 2.0, nan, nan, 4.0, 1.0, nan, nan, nan, 2.0, nan, nan, nan, nan, nan, nan, 2.0, nan, nan, nan, nan, nan, nan, nan, nan, nan, nan, nan, nan, nan, nan, nan, nan, nan, nan, nan, nan, nan, nan, nan, nan, nan, nan, nan, 1.0, nan, nan, nan, nan, nan, 6.0, nan, nan, nan, nan, nan, nan, 4.0, nan, nan, nan, nan, nan, nan, nan, nan, nan, nan, nan, nan, nan, 2.0, nan, nan, nan, nan, nan, nan, nan, nan, nan, nan, nan, nan, nan, nan, nan, nan, nan, nan, nan, nan, 2.0, nan, nan, nan, nan, 2.0, nan, nan, 1.0, nan, nan, nan, nan, nan, nan, nan, nan, nan, 1.0, nan, 2.0, 1.0, nan, nan, nan, nan, nan, 4.0, 2.0, nan, nan, nan, nan, nan, nan, nan, nan, nan, nan, nan, nan, nan, nan, nan, nan, nan, nan, 2.0, 3.0, nan, 1.0, nan, nan, nan, nan, 1.0, nan, nan, nan, nan, nan, nan, nan, nan, nan, nan, nan, nan, nan, nan, nan, nan, nan, nan, nan, 2.0, nan, nan, nan, nan, nan, nan, nan, nan, nan, nan, nan, nan, nan, 1.0, nan, nan, nan, nan, 2.0, nan, nan, nan, nan, nan, nan, nan, nan, nan, 2.0, nan, nan, 1.0, nan, nan, nan, nan, nan, nan, nan, nan, nan, nan, nan, nan, nan, nan, nan, nan, nan, nan, nan, 1.0, nan, nan, nan, 5.0, nan, 1.0, nan, nan, nan, nan, nan, nan, nan, nan, nan, 4.0, nan, nan, nan, nan, nan, nan, 4.0, nan, nan, nan, nan, nan, nan, nan, nan, 1.0, nan, 3.0, nan, nan, nan, 3.0, nan, nan, 2.0, nan, nan, nan, nan, nan, nan, 1.0, nan, nan, 1.0, nan, nan, nan, nan, nan, nan, nan, nan, nan, nan, nan, nan, nan, 1.0, nan, nan, nan, nan, nan, nan, nan, nan, nan, nan, nan, nan, nan, nan, nan, nan, nan, nan, nan, nan, nan, nan, nan, nan, nan, nan, nan, nan, 3.0, nan, nan, nan, nan, nan, nan, nan, nan, nan, nan, nan, nan, nan, nan, nan, nan, nan, nan, nan, nan, nan, nan, 4.0, nan, nan, 1.0, nan, nan, nan, nan, nan, nan, nan, nan, nan, nan, nan, nan, nan, nan, nan, nan, 1.0, nan, nan, nan, 1.0, nan, nan, nan, nan, nan, nan, nan, nan, nan, nan, nan, nan, nan, nan, nan, nan, 1.0, nan, nan, nan, nan, nan, nan, nan, nan, nan, nan, nan, nan, nan, nan, nan, nan, nan, nan, 4.0, nan, nan, nan, nan, nan, nan, nan, nan, 7.0, nan, 3.0, nan, nan, nan, nan, nan, nan, nan, nan, nan, nan, nan, nan, 2.0, 3.0, 1.0, nan, nan, 3.0, nan, nan, nan, 4.0, 1.0, nan, nan, 5.0, 2.0, nan, nan, 3.0, nan, nan, nan, nan, 1.0, nan, 1.0, nan, nan, nan, 1.0, nan, nan, nan, 3.0, nan, nan, 1.0, nan, nan, nan, nan, nan, nan, nan, nan, nan, nan, nan, nan, nan, nan, nan, 2.0, 2.0, nan, 1.0, nan, nan, nan, nan, nan, nan, nan, nan, nan, nan, nan, nan, nan, nan, nan, nan, nan, nan, nan, nan, nan, nan, nan, nan, nan, nan, nan, 5.0, nan, nan, nan, nan, 7.0, nan, nan, 5.0, nan, nan, nan, 1.0, nan, nan, nan, nan, nan, nan, nan, 1.0, nan, 2.0, nan, nan, nan, nan, nan, nan, 8.0, nan, nan, nan, nan, nan, nan, nan, nan, nan, nan, nan, nan, 2.0, nan, nan, nan, nan, nan, 1.0, 2.0, nan, nan, nan, nan, nan, nan, nan, nan, nan, nan, nan, nan, nan, nan, nan, nan, nan, 1.0, nan, nan, nan, nan, nan, nan, nan, nan, nan, nan, 2.0, nan, nan, nan, nan, nan, nan, nan, nan, nan, nan, nan, nan, nan, nan, nan, 5.0, nan, nan, nan, 2.0, nan, nan, nan, nan, 3.0, nan, 1.0, nan, nan, nan, nan, 3.0, nan, nan, nan, nan, nan, nan, nan, nan, nan, nan, nan, nan, nan, nan, nan, nan, nan, nan, nan, nan, nan, nan, nan, nan, nan, nan, nan, nan, nan, 3.0, nan, nan, nan, nan, 4.0, nan, nan, nan, nan, nan, nan, nan, nan, nan, nan, nan, 4.0, nan, nan, nan, nan, nan, nan, nan, 1.0, nan, nan, nan, nan, nan, nan, nan, nan, nan, nan, nan, nan, nan, nan, nan, nan, nan, 1.0, nan, nan, nan, nan, nan, nan, nan, nan, nan, nan, nan, nan, nan, nan, nan, nan, nan, nan, nan, nan, nan, 1.0, nan, nan, nan, nan, 4.0, nan, nan, nan, nan, 4.0, nan, nan, nan, nan, nan, nan, nan, nan, nan, nan, nan, nan, nan, nan, nan, nan, nan, nan, nan, nan, nan, nan, nan, nan, nan, nan, nan, nan, nan, nan, 1.0, nan, nan, 6.0, nan, nan, nan, nan, nan, nan, nan, nan, nan, nan, nan, nan, nan, nan, nan, nan, nan, nan, 4.0, nan, nan, nan, nan, nan, nan, nan, nan, nan, nan, nan, nan, nan, nan, nan, nan, nan, nan, nan, nan, 1.0, 2.0, 14.0, nan, 3.0, 4.0, nan, nan, nan, 4.0, 1.0, nan, nan, nan, nan, nan, nan, nan, nan, nan, nan, nan, nan, nan, nan, nan, nan, nan, nan, nan, nan, 1.0, nan, nan, 2.0, nan, 1.0, nan, nan, nan, nan, nan, 1.0, nan, nan, nan, nan, nan, nan, nan, nan, nan, 2.0, nan, nan, nan, nan, nan, nan, nan, nan, nan, nan, 1.0, nan, nan, nan, nan, nan, nan, nan, nan, nan, 1.0, nan, nan, nan, nan, nan, nan, nan, nan, nan, nan, nan, nan, nan, nan, nan, nan, nan, nan, nan, nan, nan, nan, nan, 1.0, nan, nan, nan, nan, nan, nan, nan, nan, nan, nan, nan, nan, 1.0, 3.0, 2.0, nan, 1.0, nan, nan, nan, nan, nan, nan, nan, nan, nan, nan, nan, nan, 2.0, nan, nan, nan, nan, 2.0, nan, 1.0, nan, 1.0, nan, nan, nan, nan, 2.0, nan, nan, 1.0, nan, nan, nan, nan, nan, nan, nan, nan, nan, nan, nan, nan, nan, nan, nan, nan, nan, nan, nan, nan, nan, nan, nan, nan, nan, nan, nan, nan, nan, nan, nan, nan, nan, nan, 6.0, nan, nan, nan, nan, nan, nan, nan, nan, nan, nan, 2.0, nan, nan, 1.0, nan, nan, nan, nan, nan, 4.0, nan, nan, nan, nan, nan, nan, nan, nan, nan, 3.0, 6.0, nan, nan, nan, 1.0, nan, nan, nan, nan, nan, nan, nan, nan, 4.0, nan, nan, 3.0, nan, nan, nan, nan, nan, nan, nan, nan, nan, nan, nan, nan, nan, nan, nan, nan, nan, nan, nan, nan, nan, nan, nan, nan, nan, 1.0, nan, 1.0, nan, nan, nan, nan, nan, nan, nan, nan, nan, nan, nan, nan, nan, nan, 1.0, nan, nan, nan, nan, nan, nan, nan, nan, 1.0, nan, nan, nan, nan, nan, nan, nan, nan, nan, nan, 1.0, nan, nan, nan, nan, nan, nan, nan, nan, nan, nan, 1.0, nan, nan, nan, 3.0, 6.0, 3.0, nan, nan, 1.0, nan, nan, 1.0, nan, nan, nan, nan, nan, nan, nan, nan, nan, nan, nan, nan, nan, nan, nan, nan, nan, nan, nan, 3.0, 1.0, nan, nan, nan, nan, nan, nan, nan, 4.0, nan, nan, nan, nan, nan, nan, nan, nan, nan, nan, nan, nan, nan, 1.0, nan, nan, nan, 4.0, 3.0, nan, nan, 2.0, 1.0, nan, nan, 1.0, nan, nan, nan, nan, nan, nan, nan, nan, 1.0, 3.0, nan, nan, nan, nan, nan, nan, 2.0, nan, nan, nan, nan, nan, nan, nan, nan, nan, nan, nan, 2.0, 2.0, 3.0, nan, nan, nan, 1.0, nan, 5.0, 4.0, nan, 1.0, nan, nan, nan, nan, 1.0, nan, nan, 1.0, nan, nan, 1.0, nan, 1.0, nan, 2.0, nan, 1.0, 2.0, nan, nan, nan, nan, nan, nan, nan, nan, nan, 3.0, nan, nan, nan, 2.0, 1.0, nan, nan, nan, nan, nan, nan, nan, nan, nan, nan, nan, nan, nan, nan, nan, nan, nan, nan, nan, nan, nan, nan, nan, nan, nan, nan, nan, nan, 1.0, nan, nan, nan, nan, nan, nan, nan, nan, nan, nan, nan, nan, 3.0, nan, nan, nan, nan, nan, 4.0, 1.0, nan, nan, nan, nan, nan, nan, nan, nan, nan, nan, nan, 1.0, nan, nan, nan, nan, nan, nan, nan, nan, nan, nan, nan, nan, nan, nan, nan, nan, nan, nan, nan, nan, nan, nan, nan, nan, nan, nan, nan, nan, nan, nan, nan, nan, nan, nan, nan, nan, nan, nan, nan, nan, nan, 1.0, nan, nan, nan, nan, nan, nan, nan, 1.0, 1.0, nan, nan, nan, nan, nan, nan, nan, nan, nan, nan, nan, nan, nan, nan, nan, nan, nan, 3.0, nan, nan, nan, nan, nan, nan, nan, nan, nan, nan, nan, 1.0, nan, nan, nan, nan, nan, nan, 1.0, nan, nan, nan, nan, nan, nan, nan, nan, nan, nan, nan, nan, nan, nan, nan, 2.0, nan, nan, nan, nan, nan, 1.0, nan, nan, nan, 1.0, nan, nan, nan, nan, nan, nan, nan, nan, nan, nan, nan, nan, nan, nan, nan, nan, nan, nan, nan, nan, 1.0, nan, 4.0, 2.0, nan, nan, nan, nan, nan, nan, nan, nan, nan, nan, nan, nan, nan, nan, nan, nan, nan, nan, nan, 2.0, 5.0, nan, nan, nan, 3.0, nan, nan, nan, nan, nan, nan, nan, nan, nan, nan, nan, nan, nan, nan, nan, nan, nan, nan, nan, nan, nan, nan, nan, nan, nan, nan, nan, nan, nan, nan, nan, nan, nan, nan, 1.0, nan, nan, 1.0, nan, nan, nan, 2.0, nan, nan, nan, nan, nan, nan, nan, nan, nan, nan, nan, nan, nan, nan, nan, nan, nan, nan, nan, nan, nan, nan, nan, nan, nan, nan, 1.0, nan, nan, nan, 6.0, 2.0, 4.0, 10.0, 9.0, 2.0, nan, 1.0, 4.0, nan, 5.0, 5.0, nan, 12.0, 4.0, nan, 7.0, 4.0, nan, nan, nan, 1.0, nan, 3.0, nan, nan, nan, nan, 2.0, nan, nan, 1.0, 3.0, 3.0, nan, nan, 2.0, nan, nan, nan, nan, 6.0, nan, nan, 1.0, nan, nan, nan, nan, 5.0, nan, nan, 2.0, nan, nan, 3.0, nan, nan, nan, nan, nan, nan, 1.0, nan, 4.0, 4.0, 2.0, nan, 1.0, 6.0, nan, nan, 3.0, nan, 1.0, nan, 5.0, nan, nan, nan, nan, nan, 2.0, nan, 4.0, nan, nan, nan, nan, nan, 1.0, nan, nan, 1.0, nan, nan, nan, nan, nan, nan, 1.0, nan, nan, nan, nan, nan, nan, nan, nan, nan, nan, nan, nan, nan, nan, 1.0, nan, nan, nan, 10.0, nan, 2.0, nan, nan, nan, nan, nan, nan, nan, nan, nan, nan, 2.0, nan, nan, nan, nan, 1.0, nan, 2.0, nan, nan, nan, nan, nan, nan, nan, 9.0, nan, nan, 1.0, nan, nan, nan, nan, nan, nan, nan, nan, nan, nan, nan, nan, nan, nan, nan, nan, nan, nan, nan, nan, nan, nan, nan, nan, 2.0, nan, nan, 2.0, 2.0, nan, nan, nan, nan, nan, nan, nan, nan, 3.0, 3.0, nan, nan, nan, nan, 1.0, nan, 1.0, nan, nan, nan, nan, 2.0, nan, nan, 1.0, nan, nan, nan, nan, nan, nan, nan, nan, nan, nan, nan, nan, nan, nan, nan, nan, nan, nan, nan, nan, nan, 1.0, nan, nan, nan, nan, nan, nan, nan, nan, nan, nan, nan, nan, nan, nan, nan, nan, nan, nan, nan, nan, nan, nan, nan, nan, nan, nan, nan, nan, nan, nan, nan, nan, nan, nan, nan, nan, nan, nan, nan, nan, nan, nan, nan, 1.0, nan, nan, nan, nan, nan, nan, nan, nan, 1.0, nan, nan, nan, nan, nan, nan, nan, nan, nan, nan, nan, nan, nan, nan, nan, nan, nan, nan, nan, nan, nan, 1.0, nan, nan, 2.0, nan, nan, nan, nan, nan, nan, 2.0, nan, nan, nan, nan, nan, nan, nan, nan, nan, nan, nan, nan, nan, nan, nan, nan, nan, nan, nan, nan, nan, nan, nan, nan, nan, 1.0, nan, nan, nan, nan, nan, 4.0, nan, nan, nan, nan, nan, nan, nan, nan, nan, nan, nan, nan, nan, nan, nan, nan, nan, nan, nan, nan, nan, nan, nan, nan, nan, nan, nan, nan, nan, nan, nan, nan, nan, nan, nan, nan, nan, nan, nan, nan, nan, nan, nan, nan, nan, nan, nan, nan, nan, nan, nan, nan, nan, nan, nan, nan, nan, 2.0, nan, nan, nan, nan, 2.0, nan, nan, nan, nan, nan, nan, nan, nan, 2.0, nan, nan, 2.0, nan, nan, nan, nan, nan, nan, nan, nan, nan, nan, nan, nan, nan, nan, nan, nan, nan, nan, nan, nan, nan, nan, nan, nan, nan, nan, nan, nan, nan, nan, nan, nan, nan, nan, nan, nan, nan, nan, nan, nan, 1.0, nan, nan, nan, nan, nan, nan, 1.0, nan, nan, nan, nan, nan, nan, nan, nan, nan, nan, nan, nan, nan, nan, nan, nan, nan, nan, nan, nan, nan, nan, nan, nan, nan, nan, nan, nan, nan, nan, nan, nan, nan, nan, nan, nan, nan, nan, nan, nan, nan, nan, nan, nan, nan, nan, nan, nan, nan, nan, nan, nan, nan, nan, nan, nan, nan, nan, nan, nan, nan, nan, nan, nan, nan, nan, nan, 3.0, nan, 1.0, nan, nan, nan, nan, nan, nan, nan, nan, nan, nan, nan, nan, nan, 2.0, nan, nan, nan, nan, nan, nan, nan, nan]\n"
     ]
    }
   ],
   "source": [
    "print(proseq_positive_values)"
   ]
  },
  {
   "cell_type": "code",
   "execution_count": 12,
   "metadata": {},
   "outputs": [
    {
     "data": {
      "image/png": "[encoded data removed]",
      "text/plain": [
       "<Figure size 432x288 with 1 Axes>"
      ]
     },
     "metadata": {
      "needs_background": "light"
     },
     "output_type": "display_data"
    }
   ],
   "source": [
    "import matplotlib.pyplot as plt\n",
    "fig, ax1 = plt.subplots()\n",
    "ax1.set_xlabel('genome')\n",
    "ax1.set_ylabel('proseq read counts')\n",
    "ax1.plot(proseq_positive_values/((np.abs(total_sum_negative)+total_sum ) / 1000000),color='blue',alpha=0.5,label='proseq +ve')\n",
    "ax1.plot(proseq_negative_values/((np.abs(total_sum_negative)+total_sum ) / 1000000),color='orange',alpha=0.5,label='proseq -ve')\n",
    "plt.show()"
   ]
  },
  {
   "cell_type": "code",
   "execution_count": null,
   "metadata": {},
   "outputs": [],
   "source": []
  }
 ],
 "metadata": {
  "kernelspec": {
   "display_name": "Python 3",
   "language": "python",
   "name": "python3"
  },
  "language_info": {
   "codemirror_mode": {
    "name": "ipython",
    "version": 3
   },
   "file_extension": ".py",
   "mimetype": "text/x-python",
   "name": "python",
   "nbconvert_exporter": "python",
   "pygments_lexer": "ipython3",
   "version": "3.7.3"
  }
 },
 "nbformat": 4,
 "nbformat_minor": 2
}
